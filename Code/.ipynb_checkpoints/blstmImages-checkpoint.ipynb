{
 "cells": [
  {
   "cell_type": "code",
   "execution_count": 1,
   "metadata": {
    "colab": {
     "base_uri": "https://localhost:8080/"
    },
    "executionInfo": {
     "elapsed": 913,
     "status": "ok",
     "timestamp": 1622213879574,
     "user": {
      "displayName": "Maria Natale",
      "photoUrl": "https://lh3.googleusercontent.com/a-/AOh14GjVUj-VNPg7oPZf-hbxFK9y-WScDBmQlvwJPmkWcg=s64",
      "userId": "07543223348938372260"
     },
     "user_tz": -120
    },
    "id": "YlcYeknqDazq",
    "outputId": "3ebc14ac-e48c-4170-f49e-973ca66fe51d"
   },
   "outputs": [
    {
     "name": "stderr",
     "output_type": "stream",
     "text": [
      "\"git\" non Š riconosciuto come comando interno o esterno,\n",
      " un programma eseguibile o un file batch.\n"
     ]
    }
   ],
   "source": [
    "!git clone https://github.com/maria-natale/ProgettoFVAB"
   ]
  },
  {
   "cell_type": "code",
   "execution_count": 9,
   "metadata": {
    "colab": {
     "base_uri": "https://localhost:8080/"
    },
    "executionInfo": {
     "elapsed": 228,
     "status": "ok",
     "timestamp": 1622214020058,
     "user": {
      "displayName": "Maria Natale",
      "photoUrl": "https://lh3.googleusercontent.com/a-/AOh14GjVUj-VNPg7oPZf-hbxFK9y-WScDBmQlvwJPmkWcg=s64",
      "userId": "07543223348938372260"
     },
     "user_tz": -120
    },
    "id": "9Am9DepOEA5X",
    "outputId": "f8b158ad-08c0-4e91-b229-1cdc6d5d4fff"
   },
   "outputs": [
    {
     "name": "stdout",
     "output_type": "stream",
     "text": [
      "Drive already mounted at /content/drive; to attempt to forcibly remount, call drive.mount(\"/content/drive\", force_remount=True).\n"
     ]
    }
   ],
   "source": [
    "\n",
    "from google.colab import drive\n",
    "drive.mount('/content/drive')"
   ]
  },
  {
   "cell_type": "code",
   "execution_count": 16,
   "metadata": {
    "colab": {
     "base_uri": "https://localhost:8080/"
    },
    "executionInfo": {
     "elapsed": 118555,
     "status": "ok",
     "timestamp": 1622214277124,
     "user": {
      "displayName": "Maria Natale",
      "photoUrl": "https://lh3.googleusercontent.com/a-/AOh14GjVUj-VNPg7oPZf-hbxFK9y-WScDBmQlvwJPmkWcg=s64",
      "userId": "07543223348938372260"
     },
     "user_tz": -120
    },
    "id": "VDIrcKS7GG4X",
    "outputId": "e5328f23-5ce7-4b42-f3ef-fc4c13347b4b"
   },
   "outputs": [
    {
     "name": "stdout",
     "output_type": "stream",
     "text": [
      "file_dataset/spagnolo_giapponese.csv\n",
      "100% 201/201 [01:32<00:00,  2.17it/s]\n",
      "100% 55/55 [00:24<00:00,  2.28it/s]\n"
     ]
    }
   ],
   "source": [
    "!python \"/content/ProgettoFVAB/Code/create_dataset.py\""
   ]
  },
  {
   "cell_type": "code",
   "execution_count": 78,
   "metadata": {
    "executionInfo": {
     "elapsed": 215,
     "status": "ok",
     "timestamp": 1622216787074,
     "user": {
      "displayName": "Maria Natale",
      "photoUrl": "https://lh3.googleusercontent.com/a-/AOh14GjVUj-VNPg7oPZf-hbxFK9y-WScDBmQlvwJPmkWcg=s64",
      "userId": "07543223348938372260"
     },
     "user_tz": -120
    },
    "id": "Vma2HnR5zE1T"
   },
   "outputs": [],
   "source": [
    "import os\n",
    "import pandas as pd\n",
    "import numpy as np\n",
    "from tensorflow.keras.preprocessing import image\n",
    "from tqdm import tqdm\n",
    "from PIL import Image\n",
    "import gc\n",
    "\n",
    "path_git = '/content/ProgettoFVAB'\n",
    "filename = '4_7'\n",
    "path_drive = 'C:/Users/CasaLab1/Desktop/Casillo&Natale/DATASET'\n",
    "dataset_dir = 'dataset_4_7'\n",
    "\"\"\"LANGUAGES = {\n",
    "  1:'Italiano',\n",
    "  2:'Inglese',\n",
    "  3: 'Tedesco',\n",
    "  4:'Spagnolo',\n",
    "  5: 'Olandese',\n",
    "  6:'Russo',\n",
    "  7: 'Giapponese'}\n",
    "LANGUAGES_N = {\n",
    "    1:0,\n",
    "    2:1,\n",
    "    3:2,\n",
    "    4:3,\n",
    "    5:4,\n",
    "    6:5,\n",
    "    7:6\n",
    "}\"\"\"\n",
    "LANGUAGES = {\n",
    "    4:'Spagnolo',\n",
    "    7: 'Giapponese'}\n",
    "LANGUAGES_N = {\n",
    "    4:0,\n",
    "    7:1\n",
    "}"
   ]
  },
  {
   "cell_type": "code",
   "execution_count": 5,
   "metadata": {
    "colab": {
     "base_uri": "https://localhost:8080/"
    },
    "executionInfo": {
     "elapsed": 4538,
     "status": "ok",
     "timestamp": 1622212397320,
     "user": {
      "displayName": "Maria Natale",
      "photoUrl": "https://lh3.googleusercontent.com/a-/AOh14GjVUj-VNPg7oPZf-hbxFK9y-WScDBmQlvwJPmkWcg=s64",
      "userId": "07543223348938372260"
     },
     "user_tz": -120
    },
    "id": "OcdSI8D3ci_S",
    "outputId": "dc141f25-d0d4-4b32-ed3e-17fe89720deb"
   },
   "outputs": [
    {
     "name": "stdout",
     "output_type": "stream",
     "text": [
      "Collecting keras-video-generators\n",
      "  Downloading https://files.pythonhosted.org/packages/d9/98/ff550be6084b0537f1340783a6850a2f2b62b87273472a56c17ed84bcdb3/keras-video-generators-1.0.14.tar.gz\n",
      "Requirement already satisfied: keras>=2 in /usr/local/lib/python3.7/dist-packages (from keras-video-generators) (2.4.3)\n",
      "Requirement already satisfied: numpy in /usr/local/lib/python3.7/dist-packages (from keras-video-generators) (1.19.5)\n",
      "Requirement already satisfied: opencv-python in /usr/local/lib/python3.7/dist-packages (from keras-video-generators) (4.1.2.30)\n",
      "Requirement already satisfied: matplotlib in /usr/local/lib/python3.7/dist-packages (from keras-video-generators) (3.2.2)\n",
      "Requirement already satisfied: scipy>=0.14 in /usr/local/lib/python3.7/dist-packages (from keras>=2->keras-video-generators) (1.4.1)\n",
      "Requirement already satisfied: h5py in /usr/local/lib/python3.7/dist-packages (from keras>=2->keras-video-generators) (3.1.0)\n",
      "Requirement already satisfied: pyyaml in /usr/local/lib/python3.7/dist-packages (from keras>=2->keras-video-generators) (3.13)\n",
      "Requirement already satisfied: cycler>=0.10 in /usr/local/lib/python3.7/dist-packages (from matplotlib->keras-video-generators) (0.10.0)\n",
      "Requirement already satisfied: kiwisolver>=1.0.1 in /usr/local/lib/python3.7/dist-packages (from matplotlib->keras-video-generators) (1.3.1)\n",
      "Requirement already satisfied: pyparsing!=2.0.4,!=2.1.2,!=2.1.6,>=2.0.1 in /usr/local/lib/python3.7/dist-packages (from matplotlib->keras-video-generators) (2.4.7)\n",
      "Requirement already satisfied: python-dateutil>=2.1 in /usr/local/lib/python3.7/dist-packages (from matplotlib->keras-video-generators) (2.8.1)\n",
      "Requirement already satisfied: cached-property; python_version < \"3.8\" in /usr/local/lib/python3.7/dist-packages (from h5py->keras>=2->keras-video-generators) (1.5.2)\n",
      "Requirement already satisfied: six in /usr/local/lib/python3.7/dist-packages (from cycler>=0.10->matplotlib->keras-video-generators) (1.15.0)\n",
      "Building wheels for collected packages: keras-video-generators\n",
      "  Building wheel for keras-video-generators (setup.py) ... \u001b[?25l\u001b[?25hdone\n",
      "  Created wheel for keras-video-generators: filename=keras_video_generators-1.0.14-cp37-none-any.whl size=12884 sha256=a71b5c8b3d31823aabbb9801b61237e92c82670b21b7f028a1e1b976f8d6f6af\n",
      "  Stored in directory: /root/.cache/pip/wheels/20/b7/76/8674d46fc4777c09e5aa7b065d4e356d90f12ec409a6144bbb\n",
      "Successfully built keras-video-generators\n",
      "Installing collected packages: keras-video-generators\n",
      "Successfully installed keras-video-generators-1.0.14\n"
     ]
    }
   ],
   "source": [
    "!pip install keras-video-generators"
   ]
  },
  {
   "cell_type": "code",
   "execution_count": 9,
   "metadata": {
    "colab": {
     "base_uri": "https://localhost:8080/"
    },
    "executionInfo": {
     "elapsed": 255,
     "status": "ok",
     "timestamp": 1622216792781,
     "user": {
      "displayName": "Maria Natale",
      "photoUrl": "https://lh3.googleusercontent.com/a-/AOh14GjVUj-VNPg7oPZf-hbxFK9y-WScDBmQlvwJPmkWcg=s64",
      "userId": "07543223348938372260"
     },
     "user_tz": -120
    },
    "id": "dQarDPxT1dsW",
    "outputId": "06addfb3-8d04-4f02-a326-b22e37752ad2"
   },
   "outputs": [
    {
     "ename": "SystemError",
     "evalue": "GPU device not found",
     "output_type": "error",
     "traceback": [
      "\u001b[1;31m---------------------------------------------------------------------------\u001b[0m",
      "\u001b[1;31mSystemError\u001b[0m                               Traceback (most recent call last)",
      "\u001b[1;32m<ipython-input-9-d1680108c58e>\u001b[0m in \u001b[0;36m<module>\u001b[1;34m\u001b[0m\n\u001b[0;32m      2\u001b[0m \u001b[0mdevice_name\u001b[0m \u001b[1;33m=\u001b[0m \u001b[0mtf\u001b[0m\u001b[1;33m.\u001b[0m\u001b[0mtest\u001b[0m\u001b[1;33m.\u001b[0m\u001b[0mgpu_device_name\u001b[0m\u001b[1;33m(\u001b[0m\u001b[1;33m)\u001b[0m\u001b[1;33m\u001b[0m\u001b[1;33m\u001b[0m\u001b[0m\n\u001b[0;32m      3\u001b[0m \u001b[1;32mif\u001b[0m \u001b[0mdevice_name\u001b[0m \u001b[1;33m!=\u001b[0m \u001b[1;34m'/device:GPU:0'\u001b[0m\u001b[1;33m:\u001b[0m\u001b[1;33m\u001b[0m\u001b[1;33m\u001b[0m\u001b[0m\n\u001b[1;32m----> 4\u001b[1;33m   \u001b[1;32mraise\u001b[0m \u001b[0mSystemError\u001b[0m\u001b[1;33m(\u001b[0m\u001b[1;34m'GPU device not found'\u001b[0m\u001b[1;33m)\u001b[0m\u001b[1;33m\u001b[0m\u001b[1;33m\u001b[0m\u001b[0m\n\u001b[0m\u001b[0;32m      5\u001b[0m \u001b[0mprint\u001b[0m\u001b[1;33m(\u001b[0m\u001b[1;34m'Found GPU at: {}'\u001b[0m\u001b[1;33m.\u001b[0m\u001b[0mformat\u001b[0m\u001b[1;33m(\u001b[0m\u001b[0mdevice_name\u001b[0m\u001b[1;33m)\u001b[0m\u001b[1;33m)\u001b[0m\u001b[1;33m\u001b[0m\u001b[1;33m\u001b[0m\u001b[0m\n",
      "\u001b[1;31mSystemError\u001b[0m: GPU device not found"
     ]
    }
   ],
   "source": [
    "import tensorflow as tf\n",
    "device_name = tf.test.gpu_device_name()\n",
    "if device_name != '/device:GPU:0':\n",
    "  raise SystemError('GPU device not found')\n",
    "print('Found GPU at: {}'.format(device_name))\n"
   ]
  },
  {
   "cell_type": "code",
   "execution_count": 10,
   "metadata": {},
   "outputs": [
    {
     "name": "stdout",
     "output_type": "stream",
     "text": [
      "tf.Tensor(\n",
      "[[22. 28.]\n",
      " [49. 64.]], shape=(2, 2), dtype=float32)\n"
     ]
    }
   ],
   "source": [
    "import tensorflow as tf\n",
    "tf.config.set_soft_device_placement(True)\n",
    "tf.debugging.set_log_device_placement(True)\n",
    "\n",
    "# Creates some tensors\n",
    "a = tf.constant([[1.0, 2.0, 3.0], [4.0, 5.0, 6.0]])\n",
    "b = tf.constant([[1.0, 2.0], [3.0, 4.0], [5.0, 6.0]])\n",
    "c = tf.matmul(a, b)\n",
    "\n",
    "print(c)"
   ]
  },
  {
   "cell_type": "code",
   "execution_count": 79,
   "metadata": {
    "executionInfo": {
     "elapsed": 225,
     "status": "ok",
     "timestamp": 1622217239246,
     "user": {
      "displayName": "Maria Natale",
      "photoUrl": "https://lh3.googleusercontent.com/a-/AOh14GjVUj-VNPg7oPZf-hbxFK9y-WScDBmQlvwJPmkWcg=s64",
      "userId": "07543223348938372260"
     },
     "user_tz": -120
    },
    "id": "1KCEMpAAboqJ"
   },
   "outputs": [],
   "source": [
    "SIZE = (64, 64)\n",
    "CHANNELS = 3\n",
    "NBFRAME = 350\n",
    "BS = 4\n",
    "\n",
    "import glob\n",
    "import keras\n",
    "import keras_video\n",
    "import tensorflow\n",
    "\n",
    "def load_video(path, group):\n",
    "  # use sub directories names as classes\n",
    "  os.chdir(os.path.join(path, group))\n",
    "  classes = [i.split(os.path.sep)[-1] for i in glob.glob(os.path.join(path, group)+'/*')]\n",
    "  print(classes)\n",
    "  classes.sort()\n",
    "  # some global params\n",
    "  # pattern to get videos and classes\n",
    "  glob_pattern=path+'/'+group+'/{classname}/*.avi'\n",
    "  # for data augmentation\n",
    "  data_aug = tensorflow.keras.preprocessing.image.ImageDataGenerator(\n",
    "      zoom_range=.1,\n",
    "      horizontal_flip=True,\n",
    "      rotation_range=8,\n",
    "      width_shift_range=.2,\n",
    "      height_shift_range=.2)\n",
    "  # Create video frame generator\n",
    "  x = keras_video.VideoFrameGenerator(\n",
    "      #sequence_time=1,\n",
    "      classes=classes, \n",
    "      nb_frames=NBFRAME,\n",
    "      glob_pattern=glob_pattern,\n",
    "      shuffle=True,\n",
    "      batch_size=BS,\n",
    "      target_shape=SIZE,\n",
    "      nb_channel=CHANNELS,\n",
    "      use_frame_cache=False\n",
    "      #transformation=data_aug\n",
    "  )\n",
    "  return x"
   ]
  },
  {
   "cell_type": "markdown",
   "metadata": {
    "id": "fgzHiRfu4yas"
   },
   "source": [
    "NON ESEGUIRE. CAMBIA STI PATH "
   ]
  },
  {
   "cell_type": "code",
   "execution_count": 80,
   "metadata": {
    "colab": {
     "base_uri": "https://localhost:8080/"
    },
    "executionInfo": {
     "elapsed": 246,
     "status": "ok",
     "timestamp": 1622217241649,
     "user": {
      "displayName": "Maria Natale",
      "photoUrl": "https://lh3.googleusercontent.com/a-/AOh14GjVUj-VNPg7oPZf-hbxFK9y-WScDBmQlvwJPmkWcg=s64",
      "userId": "07543223348938372260"
     },
     "user_tz": -120
    },
    "id": "0Xl3gc3_cBIr",
    "outputId": "6227fbca-63e2-4dc0-d0bc-8b98dc55eccf"
   },
   "outputs": [
    {
     "name": "stdout",
     "output_type": "stream",
     "text": [
      "['0', '1']\n",
      "Total data: 2 classes for 160 files for train\n",
      "['0', '1']\n",
      "Total data: 2 classes for 43 files for train\n",
      "['0', '1']\n",
      "Total data: 2 classes for 50 files for train\n"
     ]
    }
   ],
   "source": [
    "train = load_video(os.path.join(path_drive, dataset_dir), 'train')\n",
    "validation = load_video(os.path.join(path_drive, dataset_dir), 'validation')\n",
    "test = load_video(os.path.join(path_drive, dataset_dir), 'test')"
   ]
  },
  {
   "cell_type": "code",
   "execution_count": 81,
   "metadata": {
    "colab": {
     "base_uri": "https://localhost:8080/"
    },
    "executionInfo": {
     "elapsed": 227,
     "status": "ok",
     "timestamp": 1622217134581,
     "user": {
      "displayName": "Maria Natale",
      "photoUrl": "https://lh3.googleusercontent.com/a-/AOh14GjVUj-VNPg7oPZf-hbxFK9y-WScDBmQlvwJPmkWcg=s64",
      "userId": "07543223348938372260"
     },
     "user_tz": -120
    },
    "id": "nDIGV6Oxl1WE",
    "outputId": "8894ac17-84ad-484d-8dd4-c35bf96da410"
   },
   "outputs": [
    {
     "data": {
      "text/plain": [
       "(40, 12)"
      ]
     },
     "execution_count": 81,
     "metadata": {},
     "output_type": "execute_result"
    }
   ],
   "source": [
    "len(train), len(test)"
   ]
  },
  {
   "cell_type": "code",
   "execution_count": 7,
   "metadata": {},
   "outputs": [
    {
     "ename": "AttributeError",
     "evalue": "'VideoFrameGenerator' object has no attribute 'vid_inf'",
     "output_type": "error",
     "traceback": [
      "\u001b[1;31m---------------------------------------------------------------------------\u001b[0m",
      "\u001b[1;31mAttributeError\u001b[0m                            Traceback (most recent call last)",
      "\u001b[1;32m<ipython-input-7-92b6b1dbbc0d>\u001b[0m in \u001b[0;36m<module>\u001b[1;34m\u001b[0m\n\u001b[0;32m      1\u001b[0m \u001b[1;32mfrom\u001b[0m \u001b[0msys\u001b[0m \u001b[1;32mimport\u001b[0m \u001b[0mgetsizeof\u001b[0m\u001b[1;33m\u001b[0m\u001b[1;33m\u001b[0m\u001b[0m\n\u001b[1;32m----> 2\u001b[1;33m \u001b[0mgetsizeof\u001b[0m\u001b[1;33m(\u001b[0m\u001b[0mtrain\u001b[0m\u001b[1;33m.\u001b[0m\u001b[0mvid_inf\u001b[0m\u001b[1;33m)\u001b[0m\u001b[1;33m\u001b[0m\u001b[1;33m\u001b[0m\u001b[0m\n\u001b[0m",
      "\u001b[1;31mAttributeError\u001b[0m: 'VideoFrameGenerator' object has no attribute 'vid_inf'"
     ]
    }
   ],
   "source": []
  },
  {
   "cell_type": "code",
   "execution_count": 60,
   "metadata": {
    "colab": {
     "base_uri": "https://localhost:8080/",
     "height": 299
    },
    "executionInfo": {
     "elapsed": 786,
     "status": "error",
     "timestamp": 1622215957409,
     "user": {
      "displayName": "Maria Natale",
      "photoUrl": "https://lh3.googleusercontent.com/a-/AOh14GjVUj-VNPg7oPZf-hbxFK9y-WScDBmQlvwJPmkWcg=s64",
      "userId": "07543223348938372260"
     },
     "user_tz": -120
    },
    "id": "f_1hOei42Owy",
    "outputId": "e2ac38e0-ee01-4f3d-b110-d0aad4283b86"
   },
   "outputs": [
    {
     "ename": "AssertionError",
     "evalue": "ignored",
     "output_type": "error",
     "traceback": [
      "\u001b[0;31m---------------------------------------------------------------------------\u001b[0m",
      "\u001b[0;31mAssertionError\u001b[0m                            Traceback (most recent call last)",
      "\u001b[0;32m<ipython-input-60-4993268b28c7>\u001b[0m in \u001b[0;36m<module>\u001b[0;34m()\u001b[0m\n\u001b[1;32m      1\u001b[0m \u001b[0;32mfrom\u001b[0m \u001b[0mkeras_video\u001b[0m \u001b[0;32mimport\u001b[0m \u001b[0mutils\u001b[0m \u001b[0;32mas\u001b[0m \u001b[0mku\u001b[0m\u001b[0;34m\u001b[0m\u001b[0;34m\u001b[0m\u001b[0m\n\u001b[0;32m----> 2\u001b[0;31m \u001b[0mku\u001b[0m\u001b[0;34m.\u001b[0m\u001b[0mshow_sample\u001b[0m\u001b[0;34m(\u001b[0m\u001b[0mtest\u001b[0m\u001b[0;34m)\u001b[0m\u001b[0;34m\u001b[0m\u001b[0;34m\u001b[0m\u001b[0m\n\u001b[0m",
      "\u001b[0;32m/usr/local/lib/python3.7/dist-packages/keras_video/utils.py\u001b[0m in \u001b[0;36mshow_sample\u001b[0;34m(g, index, random, row_width, row_height)\u001b[0m\n\u001b[1;32m     27\u001b[0m         \u001b[0msample\u001b[0m \u001b[0;34m=\u001b[0m \u001b[0mindex\u001b[0m\u001b[0;34m\u001b[0m\u001b[0;34m\u001b[0m\u001b[0m\n\u001b[1;32m     28\u001b[0m \u001b[0;34m\u001b[0m\u001b[0m\n\u001b[0;32m---> 29\u001b[0;31m     \u001b[0;32massert\u001b[0m \u001b[0mindex\u001b[0m \u001b[0;34m<\u001b[0m \u001b[0mlen\u001b[0m\u001b[0;34m(\u001b[0m\u001b[0mg\u001b[0m\u001b[0;34m)\u001b[0m\u001b[0;34m\u001b[0m\u001b[0;34m\u001b[0m\u001b[0m\n\u001b[0m\u001b[1;32m     30\u001b[0m     \u001b[0msample\u001b[0m \u001b[0;34m=\u001b[0m \u001b[0mg\u001b[0m\u001b[0;34m[\u001b[0m\u001b[0msample\u001b[0m\u001b[0;34m]\u001b[0m\u001b[0;34m\u001b[0m\u001b[0;34m\u001b[0m\u001b[0m\n\u001b[1;32m     31\u001b[0m     \u001b[0msequences\u001b[0m \u001b[0;34m=\u001b[0m \u001b[0msample\u001b[0m\u001b[0;34m[\u001b[0m\u001b[0;36m0\u001b[0m\u001b[0;34m]\u001b[0m\u001b[0;34m\u001b[0m\u001b[0;34m\u001b[0m\u001b[0m\n",
      "\u001b[0;31mAssertionError\u001b[0m: "
     ]
    }
   ],
   "source": [
    "from keras_video import utils as ku\n",
    "ku.show_sample(test)"
   ]
  },
  {
   "cell_type": "code",
   "execution_count": null,
   "metadata": {
    "id": "yAkalwKzqtDT"
   },
   "outputs": [],
   "source": [
    "ku.show_sample(train, index=1)"
   ]
  },
  {
   "cell_type": "code",
   "execution_count": null,
   "metadata": {
    "id": "dRGW_3UrqX_m"
   },
   "outputs": [],
   "source": [
    "ku.show_sample(train)\n",
    "\n",
    "\n"
   ]
  },
  {
   "cell_type": "code",
   "execution_count": null,
   "metadata": {
    "id": "jowX2eU80cOZ"
   },
   "outputs": [],
   "source": [
    "from keras_video import utils as ku\n",
    "ku.show_sample(train)\n"
   ]
  },
  {
   "cell_type": "code",
   "execution_count": null,
   "metadata": {
    "id": "rdME-lO_JOF9"
   },
   "outputs": [],
   "source": [
    "from google.colab.patches import cv2_imshow\n",
    "from IPython.display import Image\n",
    "for i in train: \n",
    "  \n",
    "  c=i\n",
    "  break\n",
    "print(i)\n"
   ]
  },
  {
   "cell_type": "code",
   "execution_count": 82,
   "metadata": {
    "executionInfo": {
     "elapsed": 241,
     "status": "ok",
     "timestamp": 1622217246094,
     "user": {
      "displayName": "Maria Natale",
      "photoUrl": "https://lh3.googleusercontent.com/a-/AOh14GjVUj-VNPg7oPZf-hbxFK9y-WScDBmQlvwJPmkWcg=s64",
      "userId": "07543223348938372260"
     },
     "user_tz": -120
    },
    "id": "Q9JgE_fZg9IJ"
   },
   "outputs": [],
   "source": [
    "#tf.device('/device:GPU:0')\n",
    "from tensorflow.keras.models import Sequential\n",
    "from tensorflow.keras.layers import Conv2D, BatchNormalization, MaxPool2D, GlobalMaxPool2D\n",
    "def build_convnet(shape=(112, 112, 3)):\n",
    "    momentum = .9\n",
    "    model = Sequential()\n",
    "    model.add(Conv2D(64, (3,3), input_shape=shape, padding='same', activation='relu'))\n",
    "    model.add(Conv2D(64, (3,3), padding='same', activation='relu'))\n",
    "    model.add(BatchNormalization(momentum=momentum))\n",
    "    \n",
    "    model.add(MaxPool2D())\n",
    "    \n",
    "    model.add(Conv2D(128, (3,3), padding='same', activation='relu'))\n",
    "    model.add(Conv2D(128, (3,3), padding='same', activation='relu'))\n",
    "    model.add(BatchNormalization(momentum=momentum))\n",
    "    \n",
    "    model.add(MaxPool2D())\n",
    "    \n",
    "    model.add(Conv2D(256, (3,3), padding='same', activation='relu'))\n",
    "    model.add(Conv2D(256, (3,3), padding='same', activation='relu'))\n",
    "    model.add(BatchNormalization(momentum=momentum))\n",
    "    \n",
    "    model.add(MaxPool2D())\n",
    "    \n",
    "    model.add(Conv2D(512, (3,3), padding='same', activation='relu'))\n",
    "    model.add(Conv2D(512, (3,3), padding='same', activation='relu'))\n",
    "    model.add(BatchNormalization(momentum=momentum))\n",
    "    \n",
    "    # flatten...\n",
    "    model.add(GlobalMaxPool2D())\n",
    "    return model"
   ]
  },
  {
   "cell_type": "code",
   "execution_count": 83,
   "metadata": {
    "executionInfo": {
     "elapsed": 219,
     "status": "ok",
     "timestamp": 1622217248545,
     "user": {
      "displayName": "Maria Natale",
      "photoUrl": "https://lh3.googleusercontent.com/a-/AOh14GjVUj-VNPg7oPZf-hbxFK9y-WScDBmQlvwJPmkWcg=s64",
      "userId": "07543223348938372260"
     },
     "user_tz": -120
    },
    "id": "Gqhij7nwhGfp"
   },
   "outputs": [],
   "source": [
    "from tensorflow.keras.layers import LSTM, Bidirectional\n",
    "from tensorflow.keras.layers import TimeDistributed, Dense, GRU, Dropout\n",
    "def action_model(shape=(5, 112, 112, 3), nbout=2):\n",
    "    # Create our convnet with (112, 112, 3) input shape\n",
    "    convnet = build_convnet(shape[1:])\n",
    "    \n",
    "    # then create our final model\n",
    "    model = Sequential()\n",
    "    # add the convnet with (5, 112, 112, 3) shape\n",
    "    model.add(TimeDistributed(convnet, input_shape=shape))\n",
    "    model.add(Bidirectional(LSTM(units = 100, return_sequences = True, input_shape = (NBFRAME, 64*64*3))))\n",
    "    model.add(Dropout(0.8))\n",
    "\n",
    "    # Adding a second LSTM layer and Dropout layer\n",
    "    model.add(Bidirectional(LSTM(units = 100, return_sequences = True)))\n",
    "    model.add(Dropout(0.8))\n",
    "\n",
    "    # Adding a third LSTM layer and Dropout layer\n",
    "    model.add(Bidirectional(LSTM(units = 100)))\n",
    "    model.add(Dropout(0.8))\n",
    "    model.add(Dense(nbout, activation='softmax'))\n",
    "    model.summary()\n",
    "    return model"
   ]
  },
  {
   "cell_type": "code",
   "execution_count": 84,
   "metadata": {
    "colab": {
     "base_uri": "https://localhost:8080/"
    },
    "executionInfo": {
     "elapsed": 2435,
     "status": "ok",
     "timestamp": 1622217252387,
     "user": {
      "displayName": "Maria Natale",
      "photoUrl": "https://lh3.googleusercontent.com/a-/AOh14GjVUj-VNPg7oPZf-hbxFK9y-WScDBmQlvwJPmkWcg=s64",
      "userId": "07543223348938372260"
     },
     "user_tz": -120
    },
    "id": "GMMB1uY6VR6G",
    "outputId": "3457e5d6-448a-4557-fb0f-fe9fdab5e1ca"
   },
   "outputs": [
    {
     "name": "stdout",
     "output_type": "stream",
     "text": [
      "Model: \"sequential_3\"\n",
      "_________________________________________________________________\n",
      "Layer (type)                 Output Shape              Param #   \n",
      "=================================================================\n",
      "time_distributed_1 (TimeDist (None, 350, 512)          4689216   \n",
      "_________________________________________________________________\n",
      "bidirectional_3 (Bidirection (None, 350, 200)          490400    \n",
      "_________________________________________________________________\n",
      "dropout_3 (Dropout)          (None, 350, 200)          0         \n",
      "_________________________________________________________________\n",
      "bidirectional_4 (Bidirection (None, 350, 200)          240800    \n",
      "_________________________________________________________________\n",
      "dropout_4 (Dropout)          (None, 350, 200)          0         \n",
      "_________________________________________________________________\n",
      "bidirectional_5 (Bidirection (None, 200)               240800    \n",
      "_________________________________________________________________\n",
      "dropout_5 (Dropout)          (None, 200)               0         \n",
      "_________________________________________________________________\n",
      "dense_1 (Dense)              (None, 2)                 402       \n",
      "=================================================================\n",
      "Total params: 5,661,618\n",
      "Trainable params: 5,659,698\n",
      "Non-trainable params: 1,920\n",
      "_________________________________________________________________\n"
     ]
    }
   ],
   "source": [
    "\n",
    "INSHAPE=(NBFRAME,) + SIZE + (CHANNELS,) # (5, 112, 112, 3)\n",
    "model = action_model(INSHAPE, len(LANGUAGES_N.keys()))\n",
    "optimizer = tensorflow.keras.optimizers.Adam(0.001)\n",
    "model.compile(\n",
    "    optimizer,\n",
    "    'binary_crossentropy',\n",
    "    metrics=['acc']\n",
    ")"
   ]
  },
  {
   "cell_type": "code",
   "execution_count": 110,
   "metadata": {
    "colab": {
     "base_uri": "https://localhost:8080/"
    },
    "id": "xQMKZP53h6w4",
    "outputId": "85dae2f5-3818-44e0-ee40-cf8e969e4290"
   },
   "outputs": [
    {
     "name": "stdout",
     "output_type": "stream",
     "text": [
      "Epoch 1/30\n",
      "10/10 [==============================] - 355s 36s/step - loss: 0.6331 - acc: 0.6500 - val_loss: 0.6066 - val_acc: 0.7000\n",
      "Epoch 2/30\n",
      "10/10 [==============================] - 358s 36s/step - loss: 0.6532 - acc: 0.5500 - val_loss: 0.6519 - val_acc: 0.7000\n",
      "Epoch 3/30\n",
      "10/10 [==============================] - 359s 36s/step - loss: 0.5657 - acc: 0.7000 - val_loss: 0.7114 - val_acc: 0.7250\n",
      "Epoch 4/30\n",
      "10/10 [==============================] - 361s 36s/step - loss: 0.6876 - acc: 0.5750 - val_loss: 0.7171 - val_acc: 0.6750\n",
      "Epoch 5/30\n",
      "10/10 [==============================] - 361s 36s/step - loss: 0.7767 - acc: 0.5250 - val_loss: 0.6908 - val_acc: 0.6250\n",
      "Epoch 6/30\n",
      "10/10 [==============================] - 361s 36s/step - loss: 0.7097 - acc: 0.6750 - val_loss: 0.7843 - val_acc: 0.5250\n",
      "Epoch 7/30\n",
      "10/10 [==============================] - 361s 36s/step - loss: 0.7588 - acc: 0.4500 - val_loss: 0.6938 - val_acc: 0.5000\n",
      "Epoch 8/30\n",
      "10/10 [==============================] - 361s 36s/step - loss: 0.6701 - acc: 0.5750 - val_loss: 0.6414 - val_acc: 0.6750\n",
      "Epoch 9/30\n",
      "10/10 [==============================] - 361s 36s/step - loss: 0.6647 - acc: 0.5750 - val_loss: 0.6533 - val_acc: 0.6500\n",
      "Epoch 10/30\n",
      "10/10 [==============================] - 360s 36s/step - loss: 0.6651 - acc: 0.6000 - val_loss: 0.6607 - val_acc: 0.6250\n",
      "Epoch 11/30\n",
      "10/10 [==============================] - 360s 36s/step - loss: 0.7015 - acc: 0.5250 - val_loss: 0.7341 - val_acc: 0.5500\n"
     ]
    }
   ],
   "source": [
    "from tensorflow.keras.callbacks import EarlyStopping\n",
    "with tensorflow.device('/device:GPU:0'):\n",
    "    tensorflow.debugging.set_log_device_placement(True)\n",
    "    EPOCHS=30\n",
    "    class MyCustomCallback(tensorflow.keras.callbacks.Callback):\n",
    "        def on_epoch_end(self, epoch, logs=None):\n",
    "            gc.collect()\n",
    "    \n",
    "    es = EarlyStopping(monitor='val_loss',\n",
    "                              min_delta=0,\n",
    "                              patience=10,\n",
    "                              verbose=0, mode='auto')\n",
    "\n",
    "    history =model.fit_generator(\n",
    "        train,\n",
    "        validation_data=validation,\n",
    "        epochs=EPOCHS,\n",
    "        steps_per_epoch = int(len(train)/BS),\n",
    "        validation_steps= len(validation), \n",
    "        callbacks = [es]\n",
    "        #callbacks=[MyCustomCallback()]\n",
    "    )"
   ]
  },
  {
   "cell_type": "code",
   "execution_count": 106,
   "metadata": {
    "colab": {
     "base_uri": "https://localhost:8080/"
    },
    "executionInfo": {
     "elapsed": 4444,
     "status": "ok",
     "timestamp": 1622217071357,
     "user": {
      "displayName": "Maria Natale",
      "photoUrl": "https://lh3.googleusercontent.com/a-/AOh14GjVUj-VNPg7oPZf-hbxFK9y-WScDBmQlvwJPmkWcg=s64",
      "userId": "07543223348938372260"
     },
     "user_tz": -120
    },
    "id": "XL9bKyIthwFM",
    "outputId": "22a12fec-b1b0-49b5-8ce9-14321fb1bced"
   },
   "outputs": [
    {
     "name": "stderr",
     "output_type": "stream",
     "text": [
      "c:\\users\\casalab1\\appdata\\local\\programs\\python\\python37\\lib\\site-packages\\tensorflow\\python\\keras\\engine\\training.py:2001: UserWarning: `Model.predict_generator` is deprecated and will be removed in a future version. Please use `Model.predict`, which supports generators.\n",
      "  warnings.warn('`Model.predict_generator` is deprecated and '\n"
     ]
    },
    {
     "name": "stdout",
     "output_type": "stream",
     "text": [
      "[1 1 0 1 1 0 1 1 1 0 1 1 1 1 0 1 1 1 1 0 0 1 1 1 1 1 1 1 1 1 1 1 1 0 1 1 1\n",
      " 1 1 0 1 1 1 1 1 1 0 0]\n"
     ]
    }
   ],
   "source": [
    "\n",
    "predictions = model.predict_generator(test, steps = len(test))\n",
    "predictions = predictions.argmax(axis = -1)\n",
    "print(predictions)"
   ]
  },
  {
   "cell_type": "code",
   "execution_count": 107,
   "metadata": {},
   "outputs": [],
   "source": [
    "y_true =[]\n",
    "x,y = test.next()\n",
    "for i in range(0,len(test.files)//BS):\n",
    "    for j in range(BS):\n",
    "        y_true.append(y[j])\n",
    "    x,y = test.next()"
   ]
  },
  {
   "cell_type": "code",
   "execution_count": 108,
   "metadata": {},
   "outputs": [],
   "source": [
    "y_true = np.array(y_true).argmax(axis = -1)"
   ]
  },
  {
   "cell_type": "code",
   "execution_count": 102,
   "metadata": {},
   "outputs": [
    {
     "name": "stdout",
     "output_type": "stream",
     "text": [
      "              precision    recall  f1-score   support\n",
      "\n",
      "    Spagnolo       0.70      0.26      0.38        27\n",
      "  Giapponese       0.47      0.86      0.61        21\n",
      "\n",
      "    accuracy                           0.52        48\n",
      "   macro avg       0.59      0.56      0.49        48\n",
      "weighted avg       0.60      0.52      0.48        48\n",
      "\n"
     ]
    }
   ],
   "source": [
    "from sklearn.metrics import classification_report\n",
    "\n",
    "target_names = list(LANGUAGES.values())\n",
    "print(classification_report(y_true, predictions, target_names=target_names))"
   ]
  },
  {
   "cell_type": "code",
   "execution_count": 103,
   "metadata": {},
   "outputs": [
    {
     "data": {
      "text/plain": [
       "Text(132.0, 0.5, 'predetti')"
      ]
     },
     "execution_count": 103,
     "metadata": {},
     "output_type": "execute_result"
    },
    {
     "data": {
      "image/png": "[encoded data removed]",
      "text/plain": [
       "<Figure size 1224x360 with 1 Axes>"
      ]
     },
     "metadata": {
      "needs_background": "light"
     },
     "output_type": "display_data"
    }
   ],
   "source": [
    "import pandas as pd\n",
    "import matplotlib.pyplot as plt\n",
    "import seaborn as sns\n",
    "\n",
    "valori=pd.crosstab(predictions, y_true)\n",
    "fig=plt.figure(figsize=(17,5))\n",
    "ax1=plt.subplot(121)\n",
    "ax1.set_title(\"spagnolo e giapponese\")\n",
    "sns.heatmap(valori,annot=True,cmap=\"Blues\",cbar=False)\n",
    "plt.xlabel(\"attuali\") \n",
    "plt.ylabel(\"predetti\")\n"
   ]
  },
  {
   "cell_type": "code",
   "execution_count": 104,
   "metadata": {},
   "outputs": [
    {
     "name": "stdout",
     "output_type": "stream",
     "text": [
      "7 3 20 18\n",
      "18 20 3 7\n"
     ]
    },
    {
     "data": {
      "image/png": "[encoded data removed]",
      "text/plain": [
       "<Figure size 1224x360 with 1 Axes>"
      ]
     },
     "metadata": {
      "needs_background": "light"
     },
     "output_type": "display_data"
    },
    {
     "data": {
      "image/png": "[encoded data removed]",
      "text/plain": [
       "<Figure size 1224x360 with 1 Axes>"
      ]
     },
     "metadata": {
      "needs_background": "light"
     },
     "output_type": "display_data"
    }
   ],
   "source": [
    "for j in (list(LANGUAGES_N.keys())):\n",
    "  i = LANGUAGES_N[j]\n",
    "  TP= valori.iloc[i,i]\n",
    "  FP= valori.iloc[i,:].sum()-TP\n",
    "  FN= valori.iloc[:,i].sum()-TP\n",
    "  TN= valori.sum().sum() - TP - FP - FN\n",
    "  print(TP,FP,FN,TN)\n",
    "  #b=[[TP,FP],[FN,TN]]\n",
    "  b=[[TP,TN],[FP,FN]]\n",
    "  fig=plt.figure(figsize=(17,5))\n",
    "  ax1=plt.subplot(121)\n",
    "  sns.heatmap(b,annot=True,cmap=\"Blues\",cbar=False,fmt = \"g\")\n",
    "  #plt.xlabel(\"POSITIVI\") \n",
    "  #plt.ylabel(\"NEGATIVI\")\n",
    "  tick_marks = [0.5,1.5]\n",
    "  plt.title(LANGUAGES[j])\n",
    "  plt.xticks(tick_marks, [\"P\",\"N\",])\n",
    "  plt.yticks(tick_marks, [\"T\",\"F\"])"
   ]
  },
  {
   "cell_type": "code",
   "execution_count": 105,
   "metadata": {},
   "outputs": [
    {
     "name": "stdout",
     "output_type": "stream",
     "text": [
      "[[[18  3]\n",
      "  [20  7]]\n",
      "\n",
      " [[ 7 20]\n",
      "  [ 3 18]]]\n"
     ]
    }
   ],
   "source": [
    "from sklearn.metrics import multilabel_confusion_matrix\n",
    "from sklearn.metrics import roc_curve\n",
    "from sklearn.metrics import roc_auc_score\n",
    "from sklearn.metrics import auc\n",
    "\n",
    "vis_arr = multilabel_confusion_matrix(y_true, predictions, labels = list(LANGUAGES_N.values()))\n",
    "print(vis_arr)\n",
    "\n",
    "# Compute ROC curve and ROC area for each class\n",
    "fpr = dict()\n",
    "tpr = dict()\n",
    "roc_auc = dict()\n",
    "\n",
    "for i in list(LANGUAGES_N.values()):\n",
    "    fpr[i], tpr[i], _ = roc_curve(y_true == i, predictions == i)\n",
    "    roc_auc[i] = auc(fpr[i], tpr[i])\n"
   ]
  },
  {
   "cell_type": "code",
   "execution_count": 94,
   "metadata": {},
   "outputs": [
    {
     "data": {
      "image/png": "[encoded data removed]",
      "text/plain": [
       "<Figure size 432x288 with 1 Axes>"
      ]
     },
     "metadata": {
      "needs_background": "light"
     },
     "output_type": "display_data"
    },
    {
     "data": {
      "image/png": "[encoded data removed]",
      "text/plain": [
       "<Figure size 432x288 with 1 Axes>"
      ]
     },
     "metadata": {
      "needs_background": "light"
     },
     "output_type": "display_data"
    }
   ],
   "source": [
    "# Plot of a ROC curve for a specific class\n",
    "for i in list(LANGUAGES_N.values()):\n",
    "    plt.figure()\n",
    "    plt.plot(fpr[i], tpr[i], label='ROC curve (area = %0.2f)' % roc_auc[i])\n",
    "    plt.plot([0, 1], [0, 1], 'k--')\n",
    "    plt.xlim([0.0, 1.0])\n",
    "    plt.ylim([0.0, 1.05])\n",
    "    plt.xlabel('False Positive Rate')\n",
    "    plt.ylabel('True Positive Rate')\n",
    "    plt.title('ROC curve')\n",
    "    plt.legend(loc=\"lower right\")\n",
    "    plt.show()"
   ]
  },
  {
   "cell_type": "code",
   "execution_count": 111,
   "metadata": {},
   "outputs": [
    {
     "data": {
      "image/png": "[encoded data removed]",
      "text/plain": [
       "<Figure size 432x288 with 1 Axes>"
      ]
     },
     "metadata": {
      "needs_background": "light"
     },
     "output_type": "display_data"
    }
   ],
   "source": [
    "plt.plot(history.history['acc'])\n",
    "plt.plot(history.history['val_acc'])\n",
    "plt.title('model accuracy')\n",
    "plt.ylabel('accuracy')\n",
    "plt.xlabel('epoch')\n",
    "plt.legend(['train', 'test'], loc='upper left')\n",
    "plt.show()"
   ]
  },
  {
   "cell_type": "code",
   "execution_count": 112,
   "metadata": {},
   "outputs": [
    {
     "data": {
      "image/png": "[encoded data removed]",
      "text/plain": [
       "<Figure size 432x288 with 1 Axes>"
      ]
     },
     "metadata": {
      "needs_background": "light"
     },
     "output_type": "display_data"
    }
   ],
   "source": [
    "plt.plot(history.history['loss'])\n",
    "plt.plot(history.history['val_loss'])\n",
    "plt.title('model loss')\n",
    "plt.ylabel('loss')\n",
    "plt.xlabel('epoch')\n",
    "plt.legend(['train', 'test'], loc='upper left')\n",
    "plt.show()"
   ]
  },
  {
   "cell_type": "code",
   "execution_count": null,
   "metadata": {},
   "outputs": [],
   "source": []
  }
 ],
 "metadata": {
  "accelerator": "GPU",
  "colab": {
   "collapsed_sections": [],
   "name": "blstmImages.ipynb",
   "provenance": []
  },
  "kernelspec": {
   "display_name": "Python 3",
   "language": "python",
   "name": "python3"
  },
  "language_info": {
   "codemirror_mode": {
    "name": "ipython",
    "version": 3
   },
   "file_extension": ".py",
   "mimetype": "text/x-python",
   "name": "python",
   "nbconvert_exporter": "python",
   "pygments_lexer": "ipython3",
   "version": "3.7.10"
  }
 },
 "nbformat": 4,
 "nbformat_minor": 1
}
