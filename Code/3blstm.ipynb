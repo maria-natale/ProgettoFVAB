{
  "nbformat": 4,
  "nbformat_minor": 0,
  "metadata": {
    "colab": {
      "name": "Copia di Untitled2.ipynb",
      "provenance": [],
      "collapsed_sections": [],
      "authorship_tag": "ABX9TyNODQz9pfgt6gPVE3nzI7HC",
      "include_colab_link": true
    },
    "kernelspec": {
      "name": "python3",
      "display_name": "Python 3"
    },
    "language_info": {
      "name": "python"
    }
  },
  "cells": [
    {
      "cell_type": "markdown",
      "metadata": {
        "id": "view-in-github",
        "colab_type": "text"
      },
      "source": [
        "<a href=\"https://colab.research.google.com/github/maria-natale/ProgettoFVAB/blob/main/Code/3blstm.ipynb\" target=\"_parent\"><img src=\"https://colab.research.google.com/assets/colab-badge.svg\" alt=\"Open In Colab\"/></a>"
      ]
    },
    {
      "cell_type": "code",
      "metadata": {
        "id": "4b3eUjxS6xVW"
      },
      "source": [
        "!git clone https://github.com/maria-natale/ProgettoFVAB"
      ],
      "execution_count": null,
      "outputs": []
    },
    {
      "cell_type": "code",
      "metadata": {
        "colab": {
          "base_uri": "https://localhost:8080/"
        },
        "id": "XTMJScpV8SD9",
        "outputId": "0b45a2bc-b0f4-45c5-ddee-b46992b4fc4a"
      },
      "source": [
        "from google.colab import drive\n",
        "drive.mount('/content/drive')"
      ],
      "execution_count": null,
      "outputs": [
        {
          "output_type": "stream",
          "text": [
            "Mounted at /content/drive\n"
          ],
          "name": "stdout"
        }
      ]
    },
    {
      "cell_type": "code",
      "metadata": {
        "id": "Vma2HnR5zE1T"
      },
      "source": [
        "import os\n",
        "import pandas as pd\n",
        "import numpy as np\n",
        "from tqdm import tqdm\n",
        "from keras.preprocessing import image\n",
        "from PIL import Image\n",
        "\n",
        "path_git = '/content/ProgettoFVAB'\n",
        "filename = 'spagnolo_giapponese'\n",
        "path_drive = '/content/drive/MyDrive/Casillo&Natale'\n",
        "dataset_dir = 'dataset_Spagnolo_giapponese'"
      ],
      "execution_count": 1,
      "outputs": []
    },
    {
      "cell_type": "code",
      "metadata": {
        "colab": {
          "base_uri": "https://localhost:8080/",
          "height": 204
        },
        "id": "pTbIDYIw8EE4",
        "outputId": "212f5954-ff8f-4a7e-c789-79d628d22ee0"
      },
      "source": [
        "train = pd.read_csv(os.path.join(path_git, 'file_dataset', filename+'ImmaginiClasse.csv'))\n",
        "path_images = os.path.join(path_drive, dataset_dir, 'train')\n",
        "train.head()"
      ],
      "execution_count": 3,
      "outputs": [
        {
          "output_type": "execute_result",
          "data": {
            "text/html": [
              "<div>\n",
              "<style scoped>\n",
              "    .dataframe tbody tr th:only-of-type {\n",
              "        vertical-align: middle;\n",
              "    }\n",
              "\n",
              "    .dataframe tbody tr th {\n",
              "        vertical-align: top;\n",
              "    }\n",
              "\n",
              "    .dataframe thead th {\n",
              "        text-align: right;\n",
              "    }\n",
              "</style>\n",
              "<table border=\"1\" class=\"dataframe\">\n",
              "  <thead>\n",
              "    <tr style=\"text-align: right;\">\n",
              "      <th></th>\n",
              "      <th>frame</th>\n",
              "      <th>lingua</th>\n",
              "    </tr>\n",
              "  </thead>\n",
              "  <tbody>\n",
              "    <tr>\n",
              "      <th>0</th>\n",
              "      <td>4_2_1_25_30_1_m.avi_frame143.jpg</td>\n",
              "      <td>Spagnolo</td>\n",
              "    </tr>\n",
              "    <tr>\n",
              "      <th>1</th>\n",
              "      <td>4_2_1_25_30_1_m.avi_frame144.jpg</td>\n",
              "      <td>Spagnolo</td>\n",
              "    </tr>\n",
              "    <tr>\n",
              "      <th>2</th>\n",
              "      <td>4_2_1_25_30_1_m.avi_frame145.jpg</td>\n",
              "      <td>Spagnolo</td>\n",
              "    </tr>\n",
              "    <tr>\n",
              "      <th>3</th>\n",
              "      <td>4_2_1_25_30_1_m.avi_frame146.jpg</td>\n",
              "      <td>Spagnolo</td>\n",
              "    </tr>\n",
              "    <tr>\n",
              "      <th>4</th>\n",
              "      <td>4_2_1_25_30_1_m.avi_frame147.jpg</td>\n",
              "      <td>Spagnolo</td>\n",
              "    </tr>\n",
              "  </tbody>\n",
              "</table>\n",
              "</div>"
            ],
            "text/plain": [
              "                              frame    lingua\n",
              "0  4_2_1_25_30_1_m.avi_frame143.jpg  Spagnolo\n",
              "1  4_2_1_25_30_1_m.avi_frame144.jpg  Spagnolo\n",
              "2  4_2_1_25_30_1_m.avi_frame145.jpg  Spagnolo\n",
              "3  4_2_1_25_30_1_m.avi_frame146.jpg  Spagnolo\n",
              "4  4_2_1_25_30_1_m.avi_frame147.jpg  Spagnolo"
            ]
          },
          "metadata": {
            "tags": []
          },
          "execution_count": 3
        }
      ]
    },
    {
      "cell_type": "code",
      "metadata": {
        "id": "o2Er9maM2SSH",
        "colab": {
          "base_uri": "https://localhost:8080/"
        },
        "outputId": "a63be06e-5e44-45f3-f82e-c6387d17ae32"
      },
      "source": [
        "from PIL import Image\n",
        "# creating an empty list\n",
        "train_image = []\n",
        "\n",
        "# for loop to read and store frames\n",
        "for i in tqdm(range(train.shape[0])):\n",
        "    # loading the image and keeping the target size as (224,224,3)\n",
        "    try:\n",
        "      img = image.load_img(path_images+'/'+train['frame'][i], target_size=(224,224,3))\n",
        "      # converting it to array\n",
        "      img = image.img_to_array(img)\n",
        "      # normalizing the pixel value\n",
        "      img = img/255\n",
        "      # appending the image to the train_image list\n",
        "      train_image.append(img)\n",
        "    except :\n",
        "      print(\"corrotta\")\n",
        "    #print(img)\n",
        "    \n",
        "    \n",
        "# converting the list to numpy array\n",
        "X = np.array(train_image)\n",
        "\n",
        "# shape of the array\n",
        "X.shape"
      ],
      "execution_count": null,
      "outputs": [
        {
          "output_type": "stream",
          "text": [
            "  1%|          | 229/41152 [00:00<02:43, 250.03it/s]"
          ],
          "name": "stderr"
        },
        {
          "output_type": "stream",
          "text": [
            "corrotta\n"
          ],
          "name": "stdout"
        },
        {
          "output_type": "stream",
          "text": [
            " 20%|█▉        | 8151/41152 [25:31<2:00:32,  4.56it/s]"
          ],
          "name": "stderr"
        }
      ]
    },
    {
      "cell_type": "code",
      "metadata": {
        "colab": {
          "base_uri": "https://localhost:8080/"
        },
        "id": "h_tYwH8XE9jM",
        "outputId": "80b932a1-bfb7-4f20-ba6f-eafd93427e5f"
      },
      "source": [
        "pip install Pillow==8.2.0"
      ],
      "execution_count": 2,
      "outputs": [
        {
          "output_type": "stream",
          "text": [
            "Requirement already satisfied: Pillow==8.2.0 in /usr/local/lib/python3.7/dist-packages (8.2.0)\n"
          ],
          "name": "stdout"
        }
      ]
    },
    {
      "cell_type": "code",
      "metadata": {
        "colab": {
          "base_uri": "https://localhost:8080/"
        },
        "id": "nZFPn2dmBWe3",
        "outputId": "4e624b72-fadc-4544-8437-a9bac4cac540"
      },
      "source": [
        "print(train['frame'][243])\n",
        "print(train['frame'][244])"
      ],
      "execution_count": 11,
      "outputs": [
        {
          "output_type": "stream",
          "text": [
            "4_2_1_25_30_1_m.avi_frame413.jpg\n",
            "4_2_1_25_30_2_m.avi_frame440.jpg\n"
          ],
          "name": "stdout"
        }
      ]
    }
  ]
}