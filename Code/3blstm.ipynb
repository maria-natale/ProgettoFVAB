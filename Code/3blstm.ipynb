{
  "nbformat": 4,
  "nbformat_minor": 0,
  "metadata": {
    "colab": {
      "name": "Untitled0.ipynb",
      "provenance": [],
      "collapsed_sections": [],
      "toc_visible": true,
      "authorship_tag": "ABX9TyPPF88sZKvd7WbKeHc7h4l/",
      "include_colab_link": true
    },
    "kernelspec": {
      "name": "python3",
      "display_name": "Python 3"
    },
    "language_info": {
      "name": "python"
    }
  },
  "cells": [
    {
      "cell_type": "markdown",
      "metadata": {
        "id": "view-in-github",
        "colab_type": "text"
      },
      "source": [
        "<a href=\"https://colab.research.google.com/github/maria-natale/ProgettoFVAB/blob/main/Code/3blstm.ipynb\" target=\"_parent\"><img src=\"https://colab.research.google.com/assets/colab-badge.svg\" alt=\"Open In Colab\"/></a>"
      ]
    },
    {
      "cell_type": "code",
      "metadata": {
        "colab": {
          "base_uri": "https://localhost:8080/"
        },
        "id": "d5TRDGDjNGfs",
        "outputId": "f89dfdf7-ea3a-42db-a6ce-f29c5436a70e"
      },
      "source": [
        "!git clone https://github.com/maria-natale/ProgettoFVAB"
      ],
      "execution_count": null,
      "outputs": [
        {
          "output_type": "stream",
          "text": [
            "Cloning into 'ProgettoFVAB'...\n",
            "remote: Enumerating objects: 105, done.\u001b[K\n",
            "remote: Counting objects: 100% (105/105), done.\u001b[K\n",
            "remote: Compressing objects: 100% (86/86), done.\u001b[K\n",
            "remote: Total 105 (delta 25), reused 55 (delta 9), pack-reused 0\u001b[K\n",
            "Receiving objects: 100% (105/105), 153.31 KiB | 4.65 MiB/s, done.\n",
            "Resolving deltas: 100% (25/25), done.\n"
          ],
          "name": "stdout"
        }
      ]
    },
    {
      "cell_type": "code",
      "metadata": {
        "colab": {
          "base_uri": "https://localhost:8080/"
        },
        "id": "8aT7G3Zl6Ly3",
        "outputId": "507cec2f-ea9f-4dde-8be9-0793f46841a9"
      },
      "source": [
        "!python \"/content/ProgettoFVAB/Code/create_datasetcsv.py\""
      ],
      "execution_count": null,
      "outputs": [
        {
          "output_type": "stream",
          "text": [
            "100% 195/195 [05:52<00:00,  1.81s/it]\n",
            "100% 53/53 [01:02<00:00,  1.18s/it]\n"
          ],
          "name": "stdout"
        }
      ]
    },
    {
      "cell_type": "code",
      "metadata": {
        "colab": {
          "base_uri": "https://localhost:8080/"
        },
        "id": "pDwgM1UDNKtZ",
        "outputId": "50b97aa5-abb5-4e18-de80-7f84779aee44"
      },
      "source": [
        "from google.colab import drive\n",
        "drive.mount('/content/drive')"
      ],
      "execution_count": null,
      "outputs": [
        {
          "output_type": "stream",
          "text": [
            "Mounted at /content/drive\n"
          ],
          "name": "stdout"
        }
      ]
    },
    {
      "cell_type": "code",
      "metadata": {
        "colab": {
          "base_uri": "https://localhost:8080/"
        },
        "id": "3FZTKIdUSwSR",
        "outputId": "306ffe73-00d2-4f40-e876-7300c2b0bbd8"
      },
      "source": [
        "!pip install bunch"
      ],
      "execution_count": null,
      "outputs": [
        {
          "output_type": "stream",
          "text": [
            "Collecting bunch\n",
            "  Downloading https://files.pythonhosted.org/packages/ef/bf/a4cf1779a4ffb4f610903fa08e15d1f4a8a2f4e3353a02afbe097c5bf4a8/bunch-1.0.1.tar.gz\n",
            "Building wheels for collected packages: bunch\n",
            "  Building wheel for bunch (setup.py) ... \u001b[?25l\u001b[?25hdone\n",
            "  Created wheel for bunch: filename=bunch-1.0.1-cp37-none-any.whl size=7076 sha256=4e8654116eb443c276aa153ef29c18d9c7769f443e333c3551feb9bbb3f11932\n",
            "  Stored in directory: /root/.cache/pip/wheels/56/0f/19/fbbf81e5764e6d8b74501c4357a88c14c94466ec777c03734c\n",
            "Successfully built bunch\n",
            "Installing collected packages: bunch\n",
            "Successfully installed bunch-1.0.1\n"
          ],
          "name": "stdout"
        }
      ]
    },
    {
      "cell_type": "code",
      "metadata": {
        "id": "Vma2HnR5zE1T"
      },
      "source": [
        "import os\n",
        "import pandas as pd\n",
        "import numpy as np\n",
        "\n",
        "path_git = '/content/ProgettoFVAB'\n",
        "filename = 'spagnolo_giapponese'\n",
        "path_drive = '/content/drive/MyDrive/Casillo&Natale'\n",
        "dataset_dir = 'dataset_Spagnolo_giapponese/datasetCSV'\n",
        "LANGUAGES = {4:'Spagnolo',\n",
        "  7: 'Giapponese'}\n",
        "\n",
        "MAX_LINES = 360"
      ],
      "execution_count": null,
      "outputs": []
    },
    {
      "cell_type": "markdown",
      "metadata": {
        "id": "LKm1TSLfAmuI"
      },
      "source": [
        "**Eseguire da qua**"
      ]
    },
    {
      "cell_type": "code",
      "metadata": {
        "id": "pH5UXvMEAmh-"
      },
      "source": [
        "os.chdir(os.path.join(path_git, 'file_dataset', 'csv'))\n",
        "x_train = pd.read_csv(filename+\"_all_train.csv\")\n",
        "x_test = pd.read_csv(filename+\"_all_test.csv\")\n",
        "y_train = pd.read_csv(filename+\"targets_all_train.csv\")\n",
        "y_test = pd.read_csv(filename+\"targets_all_test.csv\")"
      ],
      "execution_count": null,
      "outputs": []
    },
    {
      "cell_type": "code",
      "metadata": {
        "id": "Wkx3I9ttX5AT"
      },
      "source": [
        "from keras.layers import Dropout\n",
        "from keras.models import Sequential\n",
        "from keras.layers import Dense, LSTM, Bidirectional\n",
        "#Convert to numpy arrays\n",
        "x_train, y_train = np.array(x_train), np.array(y_train)\n",
        "#Reshape the data into 3-D array\n",
        "x_train = np.reshape(x_train, (x_train.shape[0],x_train.shape[1],1))\n",
        "\n",
        "# Initialising the RNN\n",
        "model = Sequential()\n",
        "model.add(Bidirectional(LSTM(units = 50, return_sequences = True, input_shape = (x_train.shape[0], 1))))\n",
        "model.add(Dropout(0.2))\n",
        "\n",
        "# Adding a second LSTM layer and Dropout layer\n",
        "model.add(Bidirectional(LSTM(units = 50, return_sequences = True)))\n",
        "model.add(Dropout(0.2))\n",
        "\n",
        "# Adding a third LSTM layer and Dropout layer\n",
        "model.add(Bidirectional(LSTM(units = 50, return_sequences = True)))\n",
        "model.add(Dropout(0.2))\n",
        "\n",
        "\n",
        "# Adding the output layer\n",
        "# For Full connection layer we use dense\n",
        "# As the output is 1D so we use unit=1\n",
        "model.add(Dense(units = 1))"
      ],
      "execution_count": null,
      "outputs": []
    },
    {
      "cell_type": "code",
      "metadata": {
        "colab": {
          "base_uri": "https://localhost:8080/"
        },
        "id": "9Al_00IXa758",
        "outputId": "c2d223ec-edd9-4139-8285-843f06efa8d7"
      },
      "source": [
        "\n",
        "#compile and fit the model on 30 epochs\n",
        "model.compile(optimizer = 'adam', loss = 'mean_squared_error')\n",
        "\n",
        "model.fit(x_train, y_train, epochs = 30, batch_size = 50)"
      ],
      "execution_count": null,
      "outputs": [
        {
          "output_type": "stream",
          "text": [
            "Epoch 1/30\n",
            "1644/1644 [==============================] - 3243s 2s/step - loss: nan\n",
            "Epoch 2/30\n",
            " 182/1644 [==>...........................] - ETA: 47:55 - loss: nan"
          ],
          "name": "stdout"
        }
      ]
    },
    {
      "cell_type": "markdown",
      "metadata": {
        "id": "HXLNPK2DNol6"
      },
      "source": [
        "# Nuova sezione"
      ]
    },
    {
      "cell_type": "code",
      "metadata": {
        "id": "3glTW0kwE5UH"
      },
      "source": [
        "#Convert x_test to a numpy array \n",
        "x_test = np.array(x_test)\n",
        "\n",
        "#Reshape the data into 3-D array\n",
        "x_test = np.reshape(x_test, (x_test.shape[0],x_test.shape[1],1))"
      ],
      "execution_count": null,
      "outputs": []
    },
    {
      "cell_type": "code",
      "metadata": {
        "id": "MyyKPtwTE9mK"
      },
      "source": [
        "from sklearn.matrix import confusion_matrix \n",
        "\n",
        "#check predicted values\n",
        "predictions = model.predict(x_test) \n",
        "#Undo scaling\n",
        "predictions = scaler.inverse_transform(predictions)\n",
        "\n",
        "#Calculate RMSE score\n",
        "rmse=np.sqrt(np.mean(((predictions- y_test)**2)))\n",
        "rmse\n",
        "\n",
        "#confusion matrix\n",
        "confusion = confusion_matrix (y_test, predictions)\n",
        "confusion"
      ],
      "execution_count": null,
      "outputs": []
    }
  ]
}