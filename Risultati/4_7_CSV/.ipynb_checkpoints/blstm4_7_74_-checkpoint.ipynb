{
 "cells": [
  {
   "cell_type": "code",
   "execution_count": null,
   "metadata": {
    "colab": {
     "base_uri": "https://localhost:8080/"
    },
    "executionInfo": {
     "elapsed": 32792,
     "status": "ok",
     "timestamp": 1621772870946,
     "user": {
      "displayName": "Maria Natale",
      "photoUrl": "https://lh3.googleusercontent.com/a-/AOh14GjVUj-VNPg7oPZf-hbxFK9y-WScDBmQlvwJPmkWcg=s64",
      "userId": "07543223348938372260"
     },
     "user_tz": -120
    },
    "id": "Z5ips2IXQl9T",
    "outputId": "f0392f2b-5b52-4fc9-d30f-9e7ebe3161bd"
   },
   "outputs": [
    {
     "name": "stdout",
     "output_type": "stream",
     "text": [
      "Mounted at /content/drive\n"
     ]
    }
   ],
   "source": [
    "from google.colab import drive\n",
    "drive.mount('/content/drive')"
   ]
  },
  {
   "cell_type": "code",
   "execution_count": 4,
   "metadata": {
    "executionInfo": {
     "elapsed": 349,
     "status": "ok",
     "timestamp": 1621786081286,
     "user": {
      "displayName": "Maria Natale",
      "photoUrl": "https://lh3.googleusercontent.com/a-/AOh14GjVUj-VNPg7oPZf-hbxFK9y-WScDBmQlvwJPmkWcg=s64",
      "userId": "07543223348938372260"
     },
     "user_tz": -120
    },
    "id": "uHwndI3bQ5uV"
   },
   "outputs": [],
   "source": [
    "import os\n",
    "import pandas as pd\n",
    "import numpy as np\n",
    "\n",
    "path_git = '/content/ProgettoFVAB'\n",
    "filename = '4_7'\n",
    "path_drive = '/content/drive/MyDrive/Casillo&Natale'\n",
    "dataset_dir = 'dataset_4_7/datasetCSV'\n",
    "\"\"\"LANGUAGES = {\n",
    "  1:'Italiano',\n",
    "  2:'Inglese',\n",
    "  3: 'Tedesco',\n",
    "  4:'Spagnolo',\n",
    "  5: 'Olandese',\n",
    "  6:'Russo',\n",
    "  7: 'Giapponese'}\n",
    "LANGUAGES_N = {\n",
    "    1:0,\n",
    "    2:1,\n",
    "    3:2,\n",
    "    4:3,\n",
    "    5:4,\n",
    "    6:5,\n",
    "    7:6\n",
    "}\"\"\"\n",
    "LANGUAGES = {\n",
    "    4:'Spagnolo',\n",
    "  7: 'Giapponese'}\n",
    "LANGUAGES_N = {\n",
    "    4:0,\n",
    "    7:1\n",
    "}\n",
    "\n",
    "MAX_LINES = 350"
   ]
  },
  {
   "cell_type": "code",
   "execution_count": 5,
   "metadata": {
    "colab": {
     "base_uri": "https://localhost:8080/"
    },
    "executionInfo": {
     "elapsed": 4552,
     "status": "ok",
     "timestamp": 1621786089591,
     "user": {
      "displayName": "Maria Natale",
      "photoUrl": "https://lh3.googleusercontent.com/a-/AOh14GjVUj-VNPg7oPZf-hbxFK9y-WScDBmQlvwJPmkWcg=s64",
      "userId": "07543223348938372260"
     },
     "user_tz": -120
    },
    "id": "QiHSRU0hRCXD",
    "outputId": "6358ef07-4bef-48cb-b202-fdb9c7701813"
   },
   "outputs": [
    {
     "name": "stdout",
     "output_type": "stream",
     "text": [
      "(195, 350, 66) (195, 1)\n",
      "(55, 350, 66) (55, 1)\n",
      "(195, 350, 66) (195, 2) (55, 350, 66) (55, 2)\n"
     ]
    }
   ],
   "source": [
    "# load dataset\n",
    "from numpy import mean\n",
    "from numpy import std\n",
    "from numpy import dstack\n",
    "from pandas import read_csv\n",
    "from keras.models import Sequential\n",
    "from keras.layers import Dense\n",
    "from keras.layers import Flatten\n",
    "from keras.layers import Dropout\n",
    "from keras.layers import LSTM, Bidirectional\n",
    "from keras.utils import to_categorical\n",
    "from matplotlib import pyplot\n",
    "from sklearn.preprocessing import MinMaxScaler\n",
    "\n",
    "# load a single file as a numpy array\n",
    "def load_file(filepath):\n",
    "    dataframe = read_csv(filepath, header= None)\n",
    "    return dataframe.values\n",
    "\n",
    "# load a list of files and return as a 3d numpy array\n",
    "def load_group(filenames, prefix=''):\n",
    "    scaler = MinMaxScaler(feature_range=(-1, 1))\n",
    "    loaded = list()\n",
    "    for name in filenames:\n",
    "        data = read_csv(prefix+name)\n",
    "        data = scaler.fit_transform(data)\n",
    "        loaded.append(data)\n",
    "    # stack group so that features are the 3rd dimension\n",
    "    loaded = dstack(loaded)\n",
    "    return loaded\n",
    "\n",
    "# load a dataset group, such as train or test\n",
    "def load_dataset_group(group, prefix= ''):\n",
    "    filepath = path_drive+'/'+dataset_dir+'/csv/features/'\n",
    "    os.chdir(os.path.join(prefix, 'csv'))\n",
    "    filenames = []\n",
    "    if group == 'train_csv':\n",
    "      filenames = ['feature'+str(i)+'.csv' for i in range(0,66)]\n",
    "    else:\n",
    "      filenames = ['feature_t'+str(i)+'.csv' for i in range(0,66)]\n",
    "    # load input data\n",
    "    X= load_group(filenames, filepath)\n",
    "    #load y \n",
    "    y = read_csv(filename+'_'+group.split('_')[0]+'_targets_1.csv')\n",
    "    # load class output\n",
    "    return X,y\n",
    "\n",
    "# load the dataset, returns train and test X and y elements\n",
    "def load_dataset(prefix=''):\n",
    "    # load all train\n",
    "    trainX, trainy = load_dataset_group('train_csv', prefix)\n",
    "    print(trainX.shape, trainy.shape)\n",
    "    # load all test\n",
    "    testX, testy = load_dataset_group('test_csv', prefix)\n",
    "    print(testX.shape, testy.shape)\n",
    "    trainy['language'] = trainy['language'].map(LANGUAGES_N)\n",
    "    testy['language'] = testy['language'].map(LANGUAGES_N)\n",
    "\n",
    "    trainy = to_categorical(trainy, len(LANGUAGES_N))\n",
    "    testy = to_categorical(testy, len(LANGUAGES_N))\n",
    "    print(trainX.shape, trainy.shape, testX.shape, testy.shape)\n",
    "    return trainX, trainy, testX, testy\n",
    "\n",
    "    \n",
    "    \n",
    "# run the experiment\n",
    "trainX, trainy, testX, testy = load_dataset(path_drive+'/'+dataset_dir)"
   ]
  },
  {
   "cell_type": "code",
   "execution_count": 6,
   "metadata": {
    "executionInfo": {
     "elapsed": 5,
     "status": "ok",
     "timestamp": 1621786089921,
     "user": {
      "displayName": "Maria Natale",
      "photoUrl": "https://lh3.googleusercontent.com/a-/AOh14GjVUj-VNPg7oPZf-hbxFK9y-WScDBmQlvwJPmkWcg=s64",
      "userId": "07543223348938372260"
     },
     "user_tz": -120
    },
    "id": "TaOdso3wawGc"
   },
   "outputs": [],
   "source": [
    "import tensorflow as tf\n",
    "from keras.callbacks import EarlyStopping\n",
    "\n",
    "def create_model(trainX, trainy, testX, testy):\n",
    "    n_timesteps, n_features, n_outputs = trainX.shape[1], trainX.shape[2], len(LANGUAGES_N.keys())\n",
    "    # Initialising the RNN\n",
    "    model = Sequential()\n",
    "    model.add(Bidirectional(LSTM(units = 100, return_sequences = True, input_shape = (n_timesteps, n_features))))\n",
    "    model.add(Dropout(0.8))\n",
    "\n",
    "    # Adding a second LSTM layer and Dropout layer\n",
    "    model.add(Bidirectional(LSTM(units = 100, return_sequences = True)))\n",
    "    model.add(Dropout(0.8))\n",
    "\n",
    "    # Adding a third LSTM layer and Dropout layer\n",
    "    model.add(Bidirectional(LSTM(units = 100)))\n",
    "    model.add(Dropout(0.8))\n",
    "\n",
    "    # Adding the output layer\n",
    "    model.add(Dense(n_outputs, activation='softmax'))\n",
    "\n",
    "    opt = tf.keras.optimizers.Adam(lr=0.001, decay=1e-6)\n",
    "    model.compile(\n",
    "      loss='categorical_crossentropy',\n",
    "      optimizer=opt,\n",
    "      metrics=['accuracy']\n",
    "    )\n",
    "\n",
    "    return model\n",
    "    \n",
    "\n"
   ]
  },
  {
   "cell_type": "code",
   "execution_count": 7,
   "metadata": {
    "colab": {
     "base_uri": "https://localhost:8080/"
    },
    "executionInfo": {
     "elapsed": 286726,
     "status": "ok",
     "timestamp": 1621786378413,
     "user": {
      "displayName": "Maria Natale",
      "photoUrl": "https://lh3.googleusercontent.com/a-/AOh14GjVUj-VNPg7oPZf-hbxFK9y-WScDBmQlvwJPmkWcg=s64",
      "userId": "07543223348938372260"
     },
     "user_tz": -120
    },
    "id": "Snz6GzESMslm",
    "outputId": "8f854b52-d9d1-457d-9425-b3a64eaee096"
   },
   "outputs": [
    {
     "name": "stdout",
     "output_type": "stream",
     "text": [
      "Epoch 1/30\n",
      "4/4 [==============================] - 26s 4s/step - loss: 0.7025 - accuracy: 0.5099 - val_loss: 0.7009 - val_accuracy: 0.5091\n",
      "Epoch 2/30\n",
      "4/4 [==============================] - 12s 3s/step - loss: 0.6870 - accuracy: 0.5838 - val_loss: 0.6925 - val_accuracy: 0.6364\n",
      "Epoch 3/30\n",
      "4/4 [==============================] - 12s 3s/step - loss: 0.6459 - accuracy: 0.6621 - val_loss: 0.6559 - val_accuracy: 0.6545\n",
      "Epoch 4/30\n",
      "4/4 [==============================] - 12s 3s/step - loss: 0.6154 - accuracy: 0.6553 - val_loss: 0.6437 - val_accuracy: 0.6364\n",
      "Epoch 5/30\n",
      "4/4 [==============================] - 12s 3s/step - loss: 0.6226 - accuracy: 0.6309 - val_loss: 0.6041 - val_accuracy: 0.6909\n",
      "Epoch 6/30\n",
      "4/4 [==============================] - 12s 3s/step - loss: 0.6458 - accuracy: 0.6453 - val_loss: 0.5779 - val_accuracy: 0.6909\n",
      "Epoch 7/30\n",
      "4/4 [==============================] - 12s 3s/step - loss: 0.5767 - accuracy: 0.7066 - val_loss: 0.6165 - val_accuracy: 0.6909\n",
      "Epoch 8/30\n",
      "4/4 [==============================] - 12s 3s/step - loss: 0.5740 - accuracy: 0.6813 - val_loss: 0.5763 - val_accuracy: 0.7091\n",
      "Epoch 9/30\n",
      "4/4 [==============================] - 12s 3s/step - loss: 0.5040 - accuracy: 0.7620 - val_loss: 0.6639 - val_accuracy: 0.6909\n",
      "Epoch 10/30\n",
      "4/4 [==============================] - 12s 3s/step - loss: 0.5133 - accuracy: 0.7671 - val_loss: 0.7650 - val_accuracy: 0.6727\n",
      "Epoch 11/30\n",
      "4/4 [==============================] - 12s 3s/step - loss: 0.5364 - accuracy: 0.6987 - val_loss: 0.6704 - val_accuracy: 0.7091\n",
      "Epoch 12/30\n",
      "4/4 [==============================] - 12s 3s/step - loss: 0.4998 - accuracy: 0.7888 - val_loss: 0.5756 - val_accuracy: 0.7091\n",
      "Epoch 13/30\n",
      "4/4 [==============================] - 12s 3s/step - loss: 0.4769 - accuracy: 0.7960 - val_loss: 0.5893 - val_accuracy: 0.7818\n",
      "Epoch 14/30\n",
      "4/4 [==============================] - 13s 3s/step - loss: 0.4630 - accuracy: 0.7587 - val_loss: 0.6482 - val_accuracy: 0.6909\n",
      "Epoch 15/30\n",
      "4/4 [==============================] - 12s 3s/step - loss: 0.4687 - accuracy: 0.7887 - val_loss: 0.8106 - val_accuracy: 0.6364\n",
      "Epoch 16/30\n",
      "4/4 [==============================] - 12s 3s/step - loss: 0.4807 - accuracy: 0.7645 - val_loss: 0.7933 - val_accuracy: 0.6909\n",
      "Epoch 17/30\n",
      "4/4 [==============================] - 12s 3s/step - loss: 0.4919 - accuracy: 0.7966 - val_loss: 0.9432 - val_accuracy: 0.6545\n",
      "Epoch 18/30\n",
      "4/4 [==============================] - 13s 3s/step - loss: 0.5365 - accuracy: 0.7810 - val_loss: 0.6588 - val_accuracy: 0.7455\n",
      "Epoch 19/30\n",
      "4/4 [==============================] - 12s 3s/step - loss: 0.4951 - accuracy: 0.7386 - val_loss: 0.7142 - val_accuracy: 0.7091\n",
      "Epoch 20/30\n",
      "4/4 [==============================] - 13s 3s/step - loss: 0.5306 - accuracy: 0.7454 - val_loss: 0.7430 - val_accuracy: 0.6727\n",
      "Epoch 21/30\n",
      "4/4 [==============================] - 13s 3s/step - loss: 0.4073 - accuracy: 0.8173 - val_loss: 0.7430 - val_accuracy: 0.6727\n",
      "Epoch 22/30\n",
      "4/4 [==============================] - 13s 3s/step - loss: 0.5433 - accuracy: 0.7252 - val_loss: 0.6004 - val_accuracy: 0.7455\n",
      "Epoch 00022: early stopping\n",
      "Model: \"sequential\"\n",
      "_________________________________________________________________\n",
      "Layer (type)                 Output Shape              Param #   \n",
      "=================================================================\n",
      "bidirectional (Bidirectional (None, 350, 200)          133600    \n",
      "_________________________________________________________________\n",
      "dropout (Dropout)            (None, 350, 200)          0         \n",
      "_________________________________________________________________\n",
      "bidirectional_1 (Bidirection (None, 350, 200)          240800    \n",
      "_________________________________________________________________\n",
      "dropout_1 (Dropout)          (None, 350, 200)          0         \n",
      "_________________________________________________________________\n",
      "bidirectional_2 (Bidirection (None, 200)               240800    \n",
      "_________________________________________________________________\n",
      "dropout_2 (Dropout)          (None, 200)               0         \n",
      "_________________________________________________________________\n",
      "dense (Dense)                (None, 2)                 402       \n",
      "=================================================================\n",
      "Total params: 615,602\n",
      "Trainable params: 615,602\n",
      "Non-trainable params: 0\n",
      "_________________________________________________________________\n"
     ]
    }
   ],
   "source": [
    "verbose, epochs, batch_size = 0, 30, 64\n",
    "model = create_model(trainX, trainy,  testX, testy)\n",
    "es = EarlyStopping(monitor='val_loss', mode='min', verbose=1, patience = 10)\n",
    "history = model.fit(trainX, trainy, epochs = epochs, batch_size = batch_size, validation_data = (testX, testy), callbacks=[es]) \n",
    "model.summary()\n"
   ]
  },
  {
   "cell_type": "code",
   "execution_count": 8,
   "metadata": {
    "colab": {
     "base_uri": "https://localhost:8080/"
    },
    "executionInfo": {
     "elapsed": 1051,
     "status": "ok",
     "timestamp": 1621786489931,
     "user": {
      "displayName": "Maria Natale",
      "photoUrl": "https://lh3.googleusercontent.com/a-/AOh14GjVUj-VNPg7oPZf-hbxFK9y-WScDBmQlvwJPmkWcg=s64",
      "userId": "07543223348938372260"
     },
     "user_tz": -120
    },
    "id": "Az-tZ0A6PyZ9",
    "outputId": "d79e0f5b-17a1-4b2c-98c5-4917b87b0b2c"
   },
   "outputs": [
    {
     "name": "stdout",
     "output_type": "stream",
     "text": [
      "2/2 [==============================] - 1s 487ms/step - loss: 0.6004 - accuracy: 0.7455\n"
     ]
    },
    {
     "data": {
      "text/plain": [
       "[0.6004176139831543, 0.7454545497894287]"
      ]
     },
     "execution_count": 8,
     "metadata": {
      "tags": []
     },
     "output_type": "execute_result"
    }
   ],
   "source": [
    "model.evaluate(testX, testy)"
   ]
  },
  {
   "cell_type": "code",
   "execution_count": 9,
   "metadata": {
    "colab": {
     "base_uri": "https://localhost:8080/"
    },
    "executionInfo": {
     "elapsed": 3457,
     "status": "ok",
     "timestamp": 1621786495918,
     "user": {
      "displayName": "Maria Natale",
      "photoUrl": "https://lh3.googleusercontent.com/a-/AOh14GjVUj-VNPg7oPZf-hbxFK9y-WScDBmQlvwJPmkWcg=s64",
      "userId": "07543223348938372260"
     },
     "user_tz": -120
    },
    "id": "topTK63NP0Il",
    "outputId": "b77a7a3a-492a-45b6-8e81-c934121339ef"
   },
   "outputs": [
    {
     "name": "stderr",
     "output_type": "stream",
     "text": [
      "/usr/local/lib/python3.7/dist-packages/tensorflow/python/keras/engine/sequential.py:450: UserWarning: `model.predict_classes()` is deprecated and will be removed after 2021-01-01. Please use instead:* `np.argmax(model.predict(x), axis=-1)`,   if your model does multi-class classification   (e.g. if it uses a `softmax` last-layer activation).* `(model.predict(x) > 0.5).astype(\"int32\")`,   if your model does binary classification   (e.g. if it uses a `sigmoid` last-layer activation).\n",
      "  warnings.warn('`model.predict_classes()` is deprecated and '\n"
     ]
    },
    {
     "data": {
      "text/plain": [
       "array([0, 1, 0, 0, 0, 1, 0, 0, 0, 0, 1, 1, 0, 0, 0, 0, 1, 0, 0, 1, 0, 0,\n",
       "       0, 0, 0, 0, 0, 0, 0, 1, 1, 1, 1, 0, 0, 0, 0, 0, 0, 1, 0, 0, 1, 0,\n",
       "       1, 0, 0, 0, 0, 0, 0, 0, 0, 0, 0])"
      ]
     },
     "execution_count": 9,
     "metadata": {
      "tags": []
     },
     "output_type": "execute_result"
    }
   ],
   "source": [
    "#check predicted values\n",
    "predictions = model.predict_classes(testX) \n",
    "predictions"
   ]
  },
  {
   "cell_type": "code",
   "execution_count": 10,
   "metadata": {
    "colab": {
     "base_uri": "https://localhost:8080/"
    },
    "executionInfo": {
     "elapsed": 258,
     "status": "ok",
     "timestamp": 1621786497947,
     "user": {
      "displayName": "Maria Natale",
      "photoUrl": "https://lh3.googleusercontent.com/a-/AOh14GjVUj-VNPg7oPZf-hbxFK9y-WScDBmQlvwJPmkWcg=s64",
      "userId": "07543223348938372260"
     },
     "user_tz": -120
    },
    "id": "DVvvtJNXP3Z9",
    "outputId": "a2d50999-1781-4a5a-bc97-a7ff7322bc80"
   },
   "outputs": [
    {
     "name": "stdout",
     "output_type": "stream",
     "text": [
      "[[[11 12]\n",
      "  [ 2 30]]\n",
      "\n",
      " [[30  2]\n",
      "  [12 11]]]\n"
     ]
    }
   ],
   "source": [
    "from sklearn.metrics import multilabel_confusion_matrix\n",
    "from sklearn.metrics import roc_curve\n",
    "from sklearn.metrics import roc_auc_score\n",
    "from sklearn.metrics import auc\n",
    "\n",
    "testy = np.argmax(testy, axis=1)\n",
    "vis_arr = multilabel_confusion_matrix(testy, predictions, labels = list(LANGUAGES_N.values()))\n",
    "print(vis_arr)\n",
    "\n",
    "# Compute ROC curve and ROC area for each class\n",
    "fpr = dict()\n",
    "tpr = dict()\n",
    "roc_auc = dict()\n",
    "\n",
    "for i in list(LANGUAGES_N.values()):\n",
    "    fpr[i], tpr[i], _ = roc_curve(testy == i, predictions == i)\n",
    "    roc_auc[i] = auc(fpr[i], tpr[i])\n",
    "\n"
   ]
  },
  {
   "cell_type": "code",
   "execution_count": 12,
   "metadata": {
    "colab": {
     "base_uri": "https://localhost:8080/",
     "height": 573
    },
    "executionInfo": {
     "elapsed": 1037,
     "status": "ok",
     "timestamp": 1621786589566,
     "user": {
      "displayName": "Maria Natale",
      "photoUrl": "https://lh3.googleusercontent.com/a-/AOh14GjVUj-VNPg7oPZf-hbxFK9y-WScDBmQlvwJPmkWcg=s64",
      "userId": "07543223348938372260"
     },
     "user_tz": -120
    },
    "id": "EEJRNEHWQFj3",
    "outputId": "d04b532d-11fc-451a-8cd7-ef2a6c3610c5"
   },
   "outputs": [
    {
     "data": {
      "image/png": "[encoded data removed]",
      "text/plain": [
       "<Figure size 432x288 with 1 Axes>"
      ]
     },
     "metadata": {
      "needs_background": "light",
      "tags": []
     },
     "output_type": "display_data"
    },
    {
     "data": {
      "image/png": "[encoded data removed]",
      "text/plain": [
       "<Figure size 432x288 with 1 Axes>"
      ]
     },
     "metadata": {
      "needs_background": "light",
      "tags": []
     },
     "output_type": "display_data"
    }
   ],
   "source": [
    "import matplotlib.pyplot as plt\n",
    "# Plot of a ROC curve for a specific class\n",
    "for i in list(LANGUAGES_N.values()):\n",
    "    plt.figure()\n",
    "    plt.plot(fpr[i], tpr[i], label='ROC curve (area = %0.2f)' % roc_auc[i])\n",
    "    plt.plot([0, 1], [0, 1], 'k--')\n",
    "    plt.xlim([0.0, 1.0])\n",
    "    plt.ylim([0.0, 1.05])\n",
    "    plt.xlabel('False Positive Rate')\n",
    "    plt.ylabel('True Positive Rate')\n",
    "    plt.title('ROC curve')\n",
    "    plt.legend(loc=\"lower right\")\n",
    "    plt.show()"
   ]
  },
  {
   "cell_type": "code",
   "execution_count": 13,
   "metadata": {
    "executionInfo": {
     "elapsed": 343,
     "status": "ok",
     "timestamp": 1621786591722,
     "user": {
      "displayName": "Maria Natale",
      "photoUrl": "https://lh3.googleusercontent.com/a-/AOh14GjVUj-VNPg7oPZf-hbxFK9y-WScDBmQlvwJPmkWcg=s64",
      "userId": "07543223348938372260"
     },
     "user_tz": -120
    },
    "id": "SRnJl2cwu5m8"
   },
   "outputs": [],
   "source": [
    "import pandas as pd\n",
    "import matplotlib.pyplot as plt\n",
    "import seaborn as sns\n",
    "\n",
    "\n",
    "def print_confusion_matrix(confusion_matrix, axes, class_label, class_names, fontsize=14):\n",
    "\n",
    "    df_cm = pd.DataFrame(\n",
    "        confusion_matrix, index=class_names, columns=class_names,\n",
    "    )\n",
    "\n",
    "    try:\n",
    "        heatmap = sns.heatmap(df_cm, annot=True, fmt=\"d\", cbar=False, ax=axes)\n",
    "    except ValueError:\n",
    "        raise ValueError(\"Confusion matrix values must be integers.\")\n",
    "    heatmap.yaxis.set_ticklabels(heatmap.yaxis.get_ticklabels(), rotation=0, ha='right', fontsize=fontsize)\n",
    "    heatmap.xaxis.set_ticklabels(heatmap.xaxis.get_ticklabels(), rotation=45, ha='right', fontsize=fontsize)\n",
    "    axes.set_ylabel('True label')\n",
    "    axes.set_xlabel('Predicted label')\n",
    "    axes.set_title(\"Confusion Matrix for the class - \" + class_label)"
   ]
  },
  {
   "cell_type": "code",
   "execution_count": 14,
   "metadata": {
    "colab": {
     "base_uri": "https://localhost:8080/",
     "height": 513
    },
    "executionInfo": {
     "elapsed": 775,
     "status": "ok",
     "timestamp": 1621786594334,
     "user": {
      "displayName": "Maria Natale",
      "photoUrl": "https://lh3.googleusercontent.com/a-/AOh14GjVUj-VNPg7oPZf-hbxFK9y-WScDBmQlvwJPmkWcg=s64",
      "userId": "07543223348938372260"
     },
     "user_tz": -120
    },
    "id": "1gzuGrDdUTDV",
    "outputId": "25e5bad3-06ae-45ba-bd05-262f8ea87ef1"
   },
   "outputs": [
    {
     "data": {
      "image/png": "[encoded data removed]",
      "text/plain": [
       "<Figure size 864x504 with 2 Axes>"
      ]
     },
     "metadata": {
      "needs_background": "light",
      "tags": []
     },
     "output_type": "display_data"
    }
   ],
   "source": [
    "fig, ax = plt.subplots(1, 2, figsize=(12, 7))\n",
    "labels = list(LANGUAGES.values())\n",
    "for axes, cfs_matrix, label in zip(ax.flatten(), vis_arr, labels):\n",
    "    print_confusion_matrix(cfs_matrix, axes, label, list(LANGUAGES_N.values()))\n",
    "    \n",
    "fig.tight_layout()\n",
    "plt.show()"
   ]
  },
  {
   "cell_type": "code",
   "execution_count": 15,
   "metadata": {
    "colab": {
     "base_uri": "https://localhost:8080/",
     "height": 295
    },
    "executionInfo": {
     "elapsed": 431,
     "status": "ok",
     "timestamp": 1621786597145,
     "user": {
      "displayName": "Maria Natale",
      "photoUrl": "https://lh3.googleusercontent.com/a-/AOh14GjVUj-VNPg7oPZf-hbxFK9y-WScDBmQlvwJPmkWcg=s64",
      "userId": "07543223348938372260"
     },
     "user_tz": -120
    },
    "id": "xKk5o6AAUUp8",
    "outputId": "63795869-3b5c-448c-a1f4-378a4a0e034a"
   },
   "outputs": [
    {
     "data": {
      "image/png": "[encoded data removed]",
      "text/plain": [
       "<Figure size 432x288 with 1 Axes>"
      ]
     },
     "metadata": {
      "needs_background": "light",
      "tags": []
     },
     "output_type": "display_data"
    }
   ],
   "source": [
    "plt.plot(history.history['accuracy'])\n",
    "plt.plot(history.history['val_accuracy'])\n",
    "plt.title('model accuracy')\n",
    "plt.ylabel('accuracy')\n",
    "plt.xlabel('epoch')\n",
    "plt.legend(['train', 'test'], loc='upper left')\n",
    "plt.show()"
   ]
  },
  {
   "cell_type": "code",
   "execution_count": 16,
   "metadata": {
    "colab": {
     "base_uri": "https://localhost:8080/",
     "height": 295
    },
    "executionInfo": {
     "elapsed": 297,
     "status": "ok",
     "timestamp": 1621786599563,
     "user": {
      "displayName": "Maria Natale",
      "photoUrl": "https://lh3.googleusercontent.com/a-/AOh14GjVUj-VNPg7oPZf-hbxFK9y-WScDBmQlvwJPmkWcg=s64",
      "userId": "07543223348938372260"
     },
     "user_tz": -120
    },
    "id": "k6jioUTnUV__",
    "outputId": "0c5760bf-0c33-4efa-d759-331d96f05739"
   },
   "outputs": [
    {
     "data": {
      "image/png": "[encoded data removed]",
      "text/plain": [
       "<Figure size 432x288 with 1 Axes>"
      ]
     },
     "metadata": {
      "needs_background": "light",
      "tags": []
     },
     "output_type": "display_data"
    }
   ],
   "source": [
    "plt.plot(history.history['loss'])\n",
    "plt.plot(history.history['val_loss'])\n",
    "plt.title('model loss')\n",
    "plt.ylabel('loss')\n",
    "plt.xlabel('epoch')\n",
    "plt.legend(['train', 'test'], loc='upper left')\n",
    "plt.show()"
   ]
  }
 ],
 "metadata": {
  "colab": {
   "authorship_tag": "ABX9TyMajdUdNio7bZIjdfmdxmjc",
   "collapsed_sections": [],
   "name": "blstmCSVnew.ipynb",
   "provenance": []
  },
  "kernelspec": {
   "display_name": "Python 3",
   "language": "python",
   "name": "python3"
  },
  "language_info": {
   "codemirror_mode": {
    "name": "ipython",
    "version": 3
   },
   "file_extension": ".py",
   "mimetype": "text/x-python",
   "name": "python",
   "nbconvert_exporter": "python",
   "pygments_lexer": "ipython3",
   "version": "3.7.10"
  }
 },
 "nbformat": 4,
 "nbformat_minor": 1
}
