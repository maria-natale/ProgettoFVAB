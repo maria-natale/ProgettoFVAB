{
 "cells": [
  {
   "cell_type": "code",
   "execution_count": 1,
   "metadata": {
    "colab": {
     "base_uri": "https://localhost:8080/"
    },
    "executionInfo": {
     "elapsed": 1538,
     "status": "ok",
     "timestamp": 1621429319816,
     "user": {
      "displayName": "Maria Natale",
      "photoUrl": "https://lh3.googleusercontent.com/a-/AOh14GjVUj-VNPg7oPZf-hbxFK9y-WScDBmQlvwJPmkWcg=s64",
      "userId": "07543223348938372260"
     },
     "user_tz": -120
    },
    "id": "d5TRDGDjNGfs",
    "outputId": "696c65b4-79b8-44a9-d39c-8b73051e0e61"
   },
   "outputs": [
    {
     "name": "stdout",
     "output_type": "stream",
     "text": [
      "Cloning into 'ProgettoFVAB'...\n",
      "remote: Enumerating objects: 152, done.\u001b[K\n",
      "remote: Counting objects: 100% (152/152), done.\u001b[K\n",
      "remote: Compressing objects: 100% (121/121), done.\u001b[K\n",
      "remote: Total 152 (delta 48), reused 85 (delta 21), pack-reused 0\u001b[K\n",
      "Receiving objects: 100% (152/152), 163.85 KiB | 4.10 MiB/s, done.\n",
      "Resolving deltas: 100% (48/48), done.\n"
     ]
    }
   ],
   "source": [
    "!git clone https://github.com/maria-natale/ProgettoFVAB"
   ]
  },
  {
   "cell_type": "code",
   "execution_count": 2,
   "metadata": {
    "colab": {
     "base_uri": "https://localhost:8080/"
    },
    "executionInfo": {
     "elapsed": 4221,
     "status": "ok",
     "timestamp": 1621429322529,
     "user": {
      "displayName": "Maria Natale",
      "photoUrl": "https://lh3.googleusercontent.com/a-/AOh14GjVUj-VNPg7oPZf-hbxFK9y-WScDBmQlvwJPmkWcg=s64",
      "userId": "07543223348938372260"
     },
     "user_tz": -120
    },
    "id": "8aT7G3Zl6Ly3",
    "outputId": "1f5868b5-3aa9-47f9-8e99-1ca2ab5cf78c"
   },
   "outputs": [
    {
     "name": "stdout",
     "output_type": "stream",
     "text": [
      "Traceback (most recent call last):\n",
      "  File \"/content/ProgettoFVAB/Code/create_datasetcsv_66.py\", line 113, in <module>\n",
      "    create_folders()\n",
      "  File \"/content/ProgettoFVAB/Code/create_datasetcsv_66.py\", line 24, in create_folders\n",
      "    os.chdir(os.path.join(path_drive, dataset_dir))\n",
      "FileNotFoundError: [Errno 2] No such file or directory: '/content/drive/MyDrive/Casillo&Natale/dataset_4_7/datasetCSV'\n"
     ]
    }
   ],
   "source": [
    "!python \"/content/ProgettoFVAB/Code/create_datasetcsv_66.py\""
   ]
  },
  {
   "cell_type": "code",
   "execution_count": 3,
   "metadata": {
    "colab": {
     "base_uri": "https://localhost:8080/"
    },
    "executionInfo": {
     "elapsed": 19451,
     "status": "ok",
     "timestamp": 1621429346494,
     "user": {
      "displayName": "Maria Natale",
      "photoUrl": "https://lh3.googleusercontent.com/a-/AOh14GjVUj-VNPg7oPZf-hbxFK9y-WScDBmQlvwJPmkWcg=s64",
      "userId": "07543223348938372260"
     },
     "user_tz": -120
    },
    "id": "pDwgM1UDNKtZ",
    "outputId": "d29ee712-8da7-4ada-ef55-9a874204f57c"
   },
   "outputs": [
    {
     "name": "stdout",
     "output_type": "stream",
     "text": [
      "Mounted at /content/drive\n"
     ]
    }
   ],
   "source": [
    "from google.colab import drive\n",
    "drive.mount('/content/drive')"
   ]
  },
  {
   "cell_type": "code",
   "execution_count": 1,
   "metadata": {
    "executionInfo": {
     "elapsed": 853,
     "status": "ok",
     "timestamp": 1621433908407,
     "user": {
      "displayName": "Maria Natale",
      "photoUrl": "https://lh3.googleusercontent.com/a-/AOh14GjVUj-VNPg7oPZf-hbxFK9y-WScDBmQlvwJPmkWcg=s64",
      "userId": "07543223348938372260"
     },
     "user_tz": -120
    },
    "id": "Vma2HnR5zE1T"
   },
   "outputs": [],
   "source": [
    "import os\n",
    "import pandas as pd\n",
    "import numpy as np\n",
    "\n",
    "path_git = '/content/ProgettoFVAB'\n",
    "filename = '4_7'\n",
    "path_drive = 'C:/Users/CasaLab1/Desktop/Casillo&Natale'\n",
    "dataset_dir = 'datasetCSV1'\n",
    "LANGUAGES = {\n",
    "    4:'Spagnolo',\n",
    "  7: 'Giapponese'}\n",
    "\n",
    "MAX_LINES = 360"
   ]
  },
  {
   "cell_type": "markdown",
   "metadata": {
    "id": "LKm1TSLfAmuI"
   },
   "source": [
    "**Eseguire da qua**"
   ]
  },
  {
   "cell_type": "code",
   "execution_count": 3,
   "metadata": {
    "colab": {
     "base_uri": "https://localhost:8080/"
    },
    "executionInfo": {
     "elapsed": 1321,
     "status": "ok",
     "timestamp": 1621433328530,
     "user": {
      "displayName": "Maria Natale",
      "photoUrl": "https://lh3.googleusercontent.com/a-/AOh14GjVUj-VNPg7oPZf-hbxFK9y-WScDBmQlvwJPmkWcg=s64",
      "userId": "07543223348938372260"
     },
     "user_tz": -120
    },
    "id": "pH5UXvMEAmh-",
    "outputId": "07502014-eab9-4d9e-baf0-281162d918a1"
   },
   "outputs": [
    {
     "name": "stdout",
     "output_type": "stream",
     "text": [
      "(68250, 66)\n",
      "(68250, 1)\n",
      "(19250, 66)\n",
      "(19250, 1)\n"
     ]
    }
   ],
   "source": [
    "from sklearn.preprocessing import label_binarize\n",
    "os.chdir(os.path.join(path_drive, dataset_dir, 'csv'))\n",
    "x_train = pd.read_csv(filename+\"_all_train.csv\")\n",
    "x_test = pd.read_csv(filename+\"_all_test.csv\")\n",
    "y_train = pd.read_csv(filename+\"targets_all_train.csv\")\n",
    "y_test = pd.read_csv(filename+\"targets_all_test.csv\")\n",
    "print(x_train.shape)\n",
    "print(y_train.shape)\n",
    "print(x_test.shape)\n",
    "print(y_test.shape)\n",
    "\n",
    "\n",
    "number_train = 40/100 * x_train.shape[0]\n",
    "number_test = 40/100 * x_test.shape[0]"
   ]
  },
  {
   "cell_type": "markdown",
   "metadata": {
    "id": "KoNMFCVy9esp"
   },
   "source": [
    "**NO**"
   ]
  },
  {
   "cell_type": "code",
   "execution_count": null,
   "metadata": {
    "colab": {
     "base_uri": "https://localhost:8080/"
    },
    "executionInfo": {
     "elapsed": 1163,
     "status": "ok",
     "timestamp": 1621079112031,
     "user": {
      "displayName": "Maria Natale",
      "photoUrl": "https://lh3.googleusercontent.com/a-/AOh14GjVUj-VNPg7oPZf-hbxFK9y-WScDBmQlvwJPmkWcg=s64",
      "userId": "07543223348938372260"
     },
     "user_tz": -120
    },
    "id": "8N_qN2oi4V7F",
    "outputId": "13aef7c7-54d5-4395-86ad-9fa3f942fc38"
   },
   "outputs": [
    {
     "name": "stdout",
     "output_type": "stream",
     "text": [
      "(68250, 66)\n",
      "(19250, 66)\n"
     ]
    }
   ],
   "source": [
    "print(x_train.shape)\n",
    "print(x_test.shape)\n",
    "x_train = x_train.loc[:number_train][:]\n",
    "y_train = y_train.loc[:number_train][:]\n",
    "x_test = x_test.loc[:number_test][:]\n",
    "y_test = y_test.loc[:number_test][:]\n",
    "\n"
   ]
  },
  {
   "cell_type": "code",
   "execution_count": 4,
   "metadata": {
    "executionInfo": {
     "elapsed": 560,
     "status": "ok",
     "timestamp": 1621433335425,
     "user": {
      "displayName": "Maria Natale",
      "photoUrl": "https://lh3.googleusercontent.com/a-/AOh14GjVUj-VNPg7oPZf-hbxFK9y-WScDBmQlvwJPmkWcg=s64",
      "userId": "07543223348938372260"
     },
     "user_tz": -120
    },
    "id": "Wkx3I9ttX5AT"
   },
   "outputs": [],
   "source": [
    "from keras.layers import Dropout\n",
    "from keras.models import Sequential\n",
    "from keras.layers import Dense, LSTM, Bidirectional\n",
    "from sklearn.preprocessing import MinMaxScaler\n",
    "from sklearn.metrics import mean_squared_error\n",
    "\n",
    "scaler = MinMaxScaler(feature_range=(0, 1))\n",
    "x_train = scaler.fit_transform(x_train)\n",
    "x_test = scaler.fit_transform(x_test)\n",
    "\n",
    "\n",
    "#Convert to numpy arrays\n",
    "x_train, y_train = np.array(x_train), np.array(y_train)\n",
    "#Reshape the data into 3-D array\n",
    "x_train = np.reshape(x_train, (x_train.shape[0],x_train.shape[1],1))\n",
    "\n",
    "# Initialising the RNN\n",
    "model = Sequential()\n",
    "model.add(Bidirectional(LSTM(units = 128, return_sequences = True, input_shape = (x_train.shape[0], 1))))\n",
    "model.add(Dropout(0.2))\n",
    "\n",
    "# Adding a second LSTM layer and Dropout layer\n",
    "model.add(Bidirectional(LSTM(units = 128, return_sequences = True)))\n",
    "model.add(Dropout(0.2))\n",
    "\n",
    "# Adding a third LSTM layer and Dropout layer\n",
    "model.add(Bidirectional(LSTM(units = 128)))\n",
    "model.add(Dropout(0.2))\n",
    "\n",
    "\n",
    "\n",
    "# Adding the output layer\n",
    "# For Full connection layer we use dense\n",
    "model.add(Dense(8, activation='softmax'))\n"
   ]
  },
  {
   "cell_type": "code",
   "execution_count": 5,
   "metadata": {
    "executionInfo": {
     "elapsed": 640,
     "status": "ok",
     "timestamp": 1621433338919,
     "user": {
      "displayName": "Maria Natale",
      "photoUrl": "https://lh3.googleusercontent.com/a-/AOh14GjVUj-VNPg7oPZf-hbxFK9y-WScDBmQlvwJPmkWcg=s64",
      "userId": "07543223348938372260"
     },
     "user_tz": -120
    },
    "id": "9Al_00IXa758"
   },
   "outputs": [],
   "source": [
    "import tensorflow as tf\n",
    "#compile and fit the model on 30 epochs\n",
    "#opt = tf.keras.optimizers.Adam(lr=0.001, decay=1e-6)\n",
    "model.compile(\n",
    "    loss='sparse_categorical_crossentropy',\n",
    "    optimizer='adam',\n",
    "    metrics=['accuracy'],\n",
    ")\n",
    "\n",
    "#tf.config.optimizer.set_jit(True)\n",
    "#tf.config.list_physical_devices('GPU')"
   ]
  },
  {
   "cell_type": "code",
   "execution_count": 6,
   "metadata": {},
   "outputs": [
    {
     "data": {
      "text/plain": [
       "(68250, 66, 1)"
      ]
     },
     "execution_count": 6,
     "metadata": {},
     "output_type": "execute_result"
    }
   ],
   "source": [
    "x_train.shape"
   ]
  },
  {
   "cell_type": "code",
   "execution_count": 7,
   "metadata": {
    "colab": {
     "base_uri": "https://localhost:8080/"
    },
    "executionInfo": {
     "elapsed": 310812,
     "status": "ok",
     "timestamp": 1621433651445,
     "user": {
      "displayName": "Maria Natale",
      "photoUrl": "https://lh3.googleusercontent.com/a-/AOh14GjVUj-VNPg7oPZf-hbxFK9y-WScDBmQlvwJPmkWcg=s64",
      "userId": "07543223348938372260"
     },
     "user_tz": -120
    },
    "id": "cr_GIKlGaESd",
    "outputId": "2a4939f2-9922-40b7-dca0-b3ab65ddba13"
   },
   "outputs": [
    {
     "name": "stdout",
     "output_type": "stream",
     "text": [
      "Epoch 1/30\n",
      "1365/1365 [==============================] - 1915s 1s/step - loss: 0.6927 - accuracy: 0.5921\n",
      "Epoch 2/30\n",
      "1365/1365 [==============================] - 2047s 1s/step - loss: 0.5183 - accuracy: 0.7389\n",
      "Epoch 3/30\n",
      "1365/1365 [==============================] - 2040s 1s/step - loss: 0.4571 - accuracy: 0.7802\n",
      "Epoch 4/30\n",
      "1365/1365 [==============================] - 2065s 2s/step - loss: 0.4058 - accuracy: 0.8059\n",
      "Epoch 5/30\n",
      "1365/1365 [==============================] - 2075s 2s/step - loss: 0.3690 - accuracy: 0.8272\n",
      "Epoch 6/30\n",
      "1365/1365 [==============================] - 2107s 2s/step - loss: 0.3399 - accuracy: 0.8406\n",
      "Epoch 7/30\n",
      "1365/1365 [==============================] - 2145s 2s/step - loss: 0.3244 - accuracy: 0.8511\n",
      "Epoch 8/30\n",
      "1365/1365 [==============================] - 2171s 2s/step - loss: 0.3069 - accuracy: 0.8585\n",
      "Epoch 9/30\n",
      "1365/1365 [==============================] - 2156s 2s/step - loss: 0.2941 - accuracy: 0.8665\n",
      "Epoch 10/30\n",
      "1365/1365 [==============================] - 2126s 2s/step - loss: 0.2878 - accuracy: 0.8699\n",
      "Epoch 11/30\n",
      "1365/1365 [==============================] - 2067s 2s/step - loss: 0.2774 - accuracy: 0.8751\n",
      "Epoch 12/30\n",
      "1365/1365 [==============================] - 2055s 2s/step - loss: 0.2682 - accuracy: 0.8797\n",
      "Epoch 13/30\n",
      "1365/1365 [==============================] - 2103s 2s/step - loss: 0.2556 - accuracy: 0.8857\n",
      "Epoch 14/30\n",
      "1365/1365 [==============================] - 2139s 2s/step - loss: 0.2506 - accuracy: 0.8892\n",
      "Epoch 15/30\n",
      "1365/1365 [==============================] - 2052s 2s/step - loss: 0.2420 - accuracy: 0.8930\n",
      "Epoch 16/30\n",
      "1365/1365 [==============================] - 2124s 2s/step - loss: 0.2360 - accuracy: 0.8939\n",
      "Epoch 17/30\n",
      "1365/1365 [==============================] - 1967s 1s/step - loss: 0.2290 - accuracy: 0.9010\n",
      "Epoch 18/30\n",
      "1365/1365 [==============================] - 2035s 1s/step - loss: 0.2249 - accuracy: 0.9007\n",
      "Epoch 19/30\n",
      "1365/1365 [==============================] - 2051s 2s/step - loss: 0.2160 - accuracy: 0.9046\n",
      "Epoch 20/30\n",
      "1365/1365 [==============================] - 2064s 2s/step - loss: 0.2142 - accuracy: 0.9066\n",
      "Epoch 21/30\n",
      "1365/1365 [==============================] - 2152s 2s/step - loss: 0.2088 - accuracy: 0.9094\n",
      "Epoch 22/30\n",
      "1365/1365 [==============================] - 2098s 2s/step - loss: 0.2005 - accuracy: 0.9154\n",
      "Epoch 23/30\n",
      "1365/1365 [==============================] - 2155s 2s/step - loss: 0.1967 - accuracy: 0.9164\n",
      "Epoch 24/30\n",
      "1365/1365 [==============================] - 2129s 2s/step - loss: 0.1895 - accuracy: 0.9199\n",
      "Epoch 25/30\n",
      "1365/1365 [==============================] - 2151s 2s/step - loss: 0.1866 - accuracy: 0.9203\n",
      "Epoch 26/30\n",
      "1365/1365 [==============================] - 2212s 2s/step - loss: 0.1822 - accuracy: 0.9224\n",
      "Epoch 27/30\n",
      "1365/1365 [==============================] - 2219s 2s/step - loss: 0.1759 - accuracy: 0.9242\n",
      "Epoch 28/30\n",
      "1365/1365 [==============================] - 2180s 2s/step - loss: 0.1717 - accuracy: 0.9270\n",
      "Epoch 29/30\n",
      "1365/1365 [==============================] - 2193s 2s/step - loss: 0.1690 - accuracy: 0.9292\n",
      "Epoch 30/30\n",
      "1365/1365 [==============================] - 2254s 2s/step - loss: 0.1636 - accuracy: 0.9324\n",
      "Model: \"sequential\"\n",
      "_________________________________________________________________\n",
      "Layer (type)                 Output Shape              Param #   \n",
      "=================================================================\n",
      "bidirectional (Bidirectional (50, 66, 256)             133120    \n",
      "_________________________________________________________________\n",
      "dropout (Dropout)            (50, 66, 256)             0         \n",
      "_________________________________________________________________\n",
      "bidirectional_1 (Bidirection (50, 66, 256)             394240    \n",
      "_________________________________________________________________\n",
      "dropout_1 (Dropout)          (50, 66, 256)             0         \n",
      "_________________________________________________________________\n",
      "bidirectional_2 (Bidirection (50, 256)                 394240    \n",
      "_________________________________________________________________\n",
      "dropout_2 (Dropout)          (50, 256)                 0         \n",
      "_________________________________________________________________\n",
      "dense (Dense)                (50, 8)                   2056      \n",
      "=================================================================\n",
      "Total params: 923,656\n",
      "Trainable params: 923,656\n",
      "Non-trainable params: 0\n",
      "_________________________________________________________________\n"
     ]
    }
   ],
   "source": [
    "model.fit(x_train, y_train, epochs = 30, batch_size = 50)\n",
    "model.summary()"
   ]
  },
  {
   "cell_type": "markdown",
   "metadata": {
    "id": "HXLNPK2DNol6"
   },
   "source": [
    "# Nuova sezione"
   ]
  },
  {
   "cell_type": "code",
   "execution_count": 8,
   "metadata": {
    "executionInfo": {
     "elapsed": 567,
     "status": "ok",
     "timestamp": 1621433669009,
     "user": {
      "displayName": "Maria Natale",
      "photoUrl": "https://lh3.googleusercontent.com/a-/AOh14GjVUj-VNPg7oPZf-hbxFK9y-WScDBmQlvwJPmkWcg=s64",
      "userId": "07543223348938372260"
     },
     "user_tz": -120
    },
    "id": "3glTW0kwE5UH"
   },
   "outputs": [],
   "source": [
    "\n",
    "#Convert x_test to a numpy array \n",
    "x_test = np.array(x_test)\n",
    "\n",
    "#Reshape the data into 3-D array\n",
    "x_test = np.reshape(x_test, (x_test.shape[0],x_test.shape[1],1))"
   ]
  },
  {
   "cell_type": "code",
   "execution_count": 9,
   "metadata": {
    "colab": {
     "base_uri": "https://localhost:8080/"
    },
    "executionInfo": {
     "elapsed": 30779,
     "status": "ok",
     "timestamp": 1621433701458,
     "user": {
      "displayName": "Maria Natale",
      "photoUrl": "https://lh3.googleusercontent.com/a-/AOh14GjVUj-VNPg7oPZf-hbxFK9y-WScDBmQlvwJPmkWcg=s64",
      "userId": "07543223348938372260"
     },
     "user_tz": -120
    },
    "id": "9euNDUuW-i0C",
    "outputId": "da30e20a-66c3-4d1d-b4a8-b8e03db647f2"
   },
   "outputs": [
    {
     "name": "stdout",
     "output_type": "stream",
     "text": [
      "602/602 [==============================] - 267s 439ms/step - loss: 1.5650 - accuracy: 0.6134\n"
     ]
    },
    {
     "data": {
      "text/plain": [
       "[1.5650159120559692, 0.6133506298065186]"
      ]
     },
     "execution_count": 9,
     "metadata": {},
     "output_type": "execute_result"
    }
   ],
   "source": [
    "model.evaluate(x_test, y_test)"
   ]
  },
  {
   "cell_type": "code",
   "execution_count": null,
   "metadata": {
    "id": "N9JeZH7Kub28"
   },
   "outputs": [],
   "source": []
  },
  {
   "cell_type": "code",
   "execution_count": 10,
   "metadata": {
    "colab": {
     "base_uri": "https://localhost:8080/"
    },
    "executionInfo": {
     "elapsed": 25651,
     "status": "ok",
     "timestamp": 1621433729954,
     "user": {
      "displayName": "Maria Natale",
      "photoUrl": "https://lh3.googleusercontent.com/a-/AOh14GjVUj-VNPg7oPZf-hbxFK9y-WScDBmQlvwJPmkWcg=s64",
      "userId": "07543223348938372260"
     },
     "user_tz": -120
    },
    "id": "MyyKPtwTE9mK",
    "outputId": "6528f669-2fd6-42b4-e994-7733db012174"
   },
   "outputs": [
    {
     "name": "stderr",
     "output_type": "stream",
     "text": [
      "c:\\users\\casalab1\\appdata\\local\\programs\\python\\python37\\lib\\site-packages\\keras\\engine\\sequential.py:450: UserWarning: `model.predict_classes()` is deprecated and will be removed after 2021-01-01. Please use instead:* `np.argmax(model.predict(x), axis=-1)`,   if your model does multi-class classification   (e.g. if it uses a `softmax` last-layer activation).* `(model.predict(x) > 0.5).astype(\"int32\")`,   if your model does binary classification   (e.g. if it uses a `sigmoid` last-layer activation).\n",
      "  warnings.warn('`model.predict_classes()` is deprecated and '\n"
     ]
    }
   ],
   "source": [
    "\n",
    "\n",
    "#check predicted values\n",
    "\n",
    "predictions = model.predict_classes(x_test) \n",
    "\n"
   ]
  },
  {
   "cell_type": "code",
   "execution_count": null,
   "metadata": {
    "colab": {
     "base_uri": "https://localhost:8080/"
    },
    "executionInfo": {
     "elapsed": 10526,
     "status": "ok",
     "timestamp": 1621080757672,
     "user": {
      "displayName": "Maria Natale",
      "photoUrl": "https://lh3.googleusercontent.com/a-/AOh14GjVUj-VNPg7oPZf-hbxFK9y-WScDBmQlvwJPmkWcg=s64",
      "userId": "07543223348938372260"
     },
     "user_tz": -120
    },
    "id": "HZREbNZfz_Cb",
    "outputId": "03d30a9a-60d7-4a8d-bd14-80235d04fb99"
   },
   "outputs": [],
   "source": [
    "predictions"
   ]
  },
  {
   "cell_type": "code",
   "execution_count": 20,
   "metadata": {
    "colab": {
     "base_uri": "https://localhost:8080/"
    },
    "executionInfo": {
     "elapsed": 653,
     "status": "ok",
     "timestamp": 1621434007601,
     "user": {
      "displayName": "Maria Natale",
      "photoUrl": "https://lh3.googleusercontent.com/a-/AOh14GjVUj-VNPg7oPZf-hbxFK9y-WScDBmQlvwJPmkWcg=s64",
      "userId": "07543223348938372260"
     },
     "user_tz": -120
    },
    "id": "TK5kAUOWVIh3",
    "outputId": "f85da9e9-5b78-41a0-a8d4-cfe1c4fc3a5f"
   },
   "outputs": [
    {
     "name": "stdout",
     "output_type": "stream",
     "text": [
      "[[[2979 5071]\n",
      "  [2372 8828]]\n",
      "\n",
      " [[8828 2372]\n",
      "  [5071 2979]]]\n"
     ]
    }
   ],
   "source": [
    "from sklearn.metrics import multilabel_confusion_matrix\n",
    "from sklearn.metrics import roc_curve\n",
    "from sklearn.metrics import roc_auc_score\n",
    "from sklearn.metrics import auc\n",
    "\n",
    "vis_arr = multilabel_confusion_matrix(y_test, predictions, labels = list(LANGUAGES.keys()))\n",
    "print(vis_arr)\n",
    "\n",
    "# Compute ROC curve and ROC area for each class\n",
    "fpr = dict()\n",
    "tpr = dict()\n",
    "roc_auc = dict()\n",
    "\n",
    "for i in list(LANGUAGES.keys()):\n",
    "    fpr[i], tpr[i], _ = roc_curve(y_test == i, predictions == i)\n",
    "    roc_auc[i] = auc(fpr[i], tpr[i])\n"
   ]
  },
  {
   "cell_type": "code",
   "execution_count": 28,
   "metadata": {
    "colab": {
     "base_uri": "https://localhost:8080/",
     "height": 851
    },
    "executionInfo": {
     "elapsed": 1264,
     "status": "ok",
     "timestamp": 1621433756944,
     "user": {
      "displayName": "Maria Natale",
      "photoUrl": "https://lh3.googleusercontent.com/a-/AOh14GjVUj-VNPg7oPZf-hbxFK9y-WScDBmQlvwJPmkWcg=s64",
      "userId": "07543223348938372260"
     },
     "user_tz": -120
    },
    "id": "LgrTpXmbygHp",
    "outputId": "62fb7340-a70f-4039-f8ef-fee011422b29"
   },
   "outputs": [
    {
     "data": {
      "image/png": "[encoded data removed]",
      "text/plain": [
       "<Figure size 432x288 with 1 Axes>"
      ]
     },
     "metadata": {
      "needs_background": "light"
     },
     "output_type": "display_data"
    },
    {
     "data": {
      "image/png": "[encoded data removed]",
      "text/plain": [
       "<Figure size 432x288 with 1 Axes>"
      ]
     },
     "metadata": {
      "needs_background": "light"
     },
     "output_type": "display_data"
    }
   ],
   "source": [
    "import matplotlib.pyplot as plt\n",
    "# Plot of a ROC curve for a specific class\n",
    "for i in list(LANGUAGES.keys()):\n",
    "    plt.figure()\n",
    "    plt.plot(fpr[i], tpr[i], label='ROC curve (area = %0.2f)' % roc_auc[i])\n",
    "    plt.plot([0, 1], [0, 1], 'k--')\n",
    "    plt.xlim([0.0, 1.0])\n",
    "    plt.ylim([0.0, 1.05])\n",
    "    plt.xlabel('False Positive Rate')\n",
    "    plt.ylabel('True Positive Rate')\n",
    "    plt.title('ROC Curve {}'.format(LANGUAGES[i]))\n",
    "    plt.legend(loc=\"lower right\")\n",
    "    plt.show()"
   ]
  },
  {
   "cell_type": "code",
   "execution_count": 22,
   "metadata": {},
   "outputs": [],
   "source": [
    "import pandas as pd\n",
    "import matplotlib.pyplot as plt\n",
    "import seaborn as sns\n",
    "\n",
    "\n",
    "def print_confusion_matrix(confusion_matrix, axes, class_label, class_names, fontsize=14):\n",
    "\n",
    "    df_cm = pd.DataFrame(\n",
    "        confusion_matrix, index=class_names, columns=class_names,\n",
    "    )\n",
    "\n",
    "    try:\n",
    "        heatmap = sns.heatmap(df_cm, annot=True, fmt=\"d\", cbar=False, ax=axes)\n",
    "    except ValueError:\n",
    "        raise ValueError(\"Confusion matrix values must be integers.\")\n",
    "    heatmap.yaxis.set_ticklabels(heatmap.yaxis.get_ticklabels(), rotation=0, ha='right', fontsize=fontsize)\n",
    "    heatmap.xaxis.set_ticklabels(heatmap.xaxis.get_ticklabels(), rotation=45, ha='right', fontsize=fontsize)\n",
    "    axes.set_ylabel('True label')\n",
    "    axes.set_xlabel('Predicted label')\n",
    "    axes.set_title(\"Confusion Matrix for the class - \" + class_label)"
   ]
  },
  {
   "cell_type": "code",
   "execution_count": 23,
   "metadata": {},
   "outputs": [
    {
     "data": {
      "image/png": "[encoded data removed]",
      "text/plain": [
       "<Figure size 864x504 with 2 Axes>"
      ]
     },
     "metadata": {
      "needs_background": "light"
     },
     "output_type": "display_data"
    }
   ],
   "source": [
    "fig, ax = plt.subplots(1, 2, figsize=(12, 7))\n",
    "labels = list(LANGUAGES.values())\n",
    "for axes, cfs_matrix, label in zip(ax.flatten(), vis_arr, labels):\n",
    "    print_confusion_matrix(cfs_matrix, axes, label, list(LANGUAGES.keys()))\n",
    "    \n",
    "fig.tight_layout()\n",
    "plt.show()"
   ]
  },
  {
   "cell_type": "code",
   "execution_count": null,
   "metadata": {},
   "outputs": [],
   "source": []
  }
 ],
 "metadata": {
  "colab": {
   "authorship_tag": "ABX9TyN2TjLJCrHmH9NqZ74fBxKW",
   "collapsed_sections": [],
   "name": "blstmCSV.ipynb",
   "provenance": [],
   "toc_visible": true
  },
  "kernelspec": {
   "display_name": "Python 3",
   "language": "python",
   "name": "python3"
  },
  "language_info": {
   "codemirror_mode": {
    "name": "ipython",
    "version": 3
   },
   "file_extension": ".py",
   "mimetype": "text/x-python",
   "name": "python",
   "nbconvert_exporter": "python",
   "pygments_lexer": "ipython3",
   "version": "3.7.10"
  }
 },
 "nbformat": 4,
 "nbformat_minor": 1
}
