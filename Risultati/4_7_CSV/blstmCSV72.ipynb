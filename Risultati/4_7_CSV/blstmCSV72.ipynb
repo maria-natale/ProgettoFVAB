{
 "cells": [
  {
   "cell_type": "code",
   "execution_count": 1,
   "metadata": {
    "colab": {
     "base_uri": "https://localhost:8080/"
    },
    "executionInfo": {
     "elapsed": 20448,
     "status": "ok",
     "timestamp": 1621686490862,
     "user": {
      "displayName": "Maria Natale",
      "photoUrl": "https://lh3.googleusercontent.com/a-/AOh14GjVUj-VNPg7oPZf-hbxFK9y-WScDBmQlvwJPmkWcg=s64",
      "userId": "07543223348938372260"
     },
     "user_tz": -120
    },
    "id": "Z5ips2IXQl9T",
    "outputId": "31f77605-45c9-4216-ff88-e0dbc685cb5f"
   },
   "outputs": [
    {
     "name": "stdout",
     "output_type": "stream",
     "text": [
      "Mounted at /content/drive\n"
     ]
    }
   ],
   "source": [
    "from google.colab import drive\n",
    "drive.mount('/content/drive')"
   ]
  },
  {
   "cell_type": "code",
   "execution_count": 6,
   "metadata": {
    "executionInfo": {
     "elapsed": 247,
     "status": "ok",
     "timestamp": 1621687198967,
     "user": {
      "displayName": "Maria Natale",
      "photoUrl": "https://lh3.googleusercontent.com/a-/AOh14GjVUj-VNPg7oPZf-hbxFK9y-WScDBmQlvwJPmkWcg=s64",
      "userId": "07543223348938372260"
     },
     "user_tz": -120
    },
    "id": "uHwndI3bQ5uV"
   },
   "outputs": [],
   "source": [
    "import os\n",
    "import pandas as pd\n",
    "import numpy as np\n",
    "\n",
    "path_git = '/content/ProgettoFVAB'\n",
    "filename = '4_7'\n",
    "path_drive = 'C:/Users/CasaLab1/Desktop/Casillo&Natale'\n",
    "dataset_dir = 'dataset_4_7/datasetCSV'\n",
    "LANGUAGES = {\n",
    "    4:'Spagnolo',\n",
    "  7: 'Giapponese'}\n",
    "LANGUAGES_N = {\n",
    "    4:0,\n",
    "    7:1\n",
    "}\n",
    "\"\"\"LANGUAGES = {1:'Italiano',\n",
    "    4:'Spagnolo',\n",
    "  7: 'Giapponese'}\n",
    "LANGUAGES_N = {\n",
    "    1:0,\n",
    "    4:1,\n",
    "    7:2\n",
    "}\"\"\"\n",
    "\n",
    "MAX_LINES = 350"
   ]
  },
  {
   "cell_type": "code",
   "execution_count": 35,
   "metadata": {
    "colab": {
     "base_uri": "https://localhost:8080/"
    },
    "executionInfo": {
     "elapsed": 4331,
     "status": "ok",
     "timestamp": 1621692020699,
     "user": {
      "displayName": "Maria Natale",
      "photoUrl": "https://lh3.googleusercontent.com/a-/AOh14GjVUj-VNPg7oPZf-hbxFK9y-WScDBmQlvwJPmkWcg=s64",
      "userId": "07543223348938372260"
     },
     "user_tz": -120
    },
    "id": "QiHSRU0hRCXD",
    "outputId": "72aab92c-472a-4ff3-8cde-0ac7c4101d36"
   },
   "outputs": [
    {
     "name": "stdout",
     "output_type": "stream",
     "text": [
      "(195, 350, 66) (195, 1)\n",
      "(55, 350, 66) (55, 1)\n",
      "(195, 350, 66) (195, 2) (55, 350, 66) (55, 2)\n"
     ]
    }
   ],
   "source": [
    "# load dataset\n",
    "from numpy import mean\n",
    "from numpy import std\n",
    "from numpy import dstack\n",
    "from pandas import read_csv\n",
    "from keras.models import Sequential\n",
    "from keras.layers import Dense, Bidirectional, LSTM\n",
    "from keras.layers import Flatten\n",
    "from keras.layers import Dropout\n",
    "from tensorflow.keras.utils import to_categorical\n",
    "from matplotlib import pyplot\n",
    "from sklearn.preprocessing import MinMaxScaler\n",
    "\n",
    "# load a single file as a numpy array\n",
    "def load_file(filepath):\n",
    "    dataframe = read_csv(filepath, header= None)\n",
    "    return dataframe.values\n",
    "\n",
    "# load a list of files and return as a 3d numpy array\n",
    "def load_group(filenames, prefix=''):\n",
    "    scaler = MinMaxScaler(feature_range=(-1, 1))\n",
    "    loaded = list()\n",
    "    for name in filenames:\n",
    "        data = read_csv(prefix+name)\n",
    "        data = scaler.fit_transform(data)\n",
    "        loaded.append(data)\n",
    "    # stack group so that features are the 3rd dimension\n",
    "    loaded = dstack(loaded)\n",
    "    return loaded\n",
    "\n",
    "# load a dataset group, such as train or test\n",
    "def load_dataset_group(group, prefix= ''):\n",
    "    filepath = path_drive+'/'+dataset_dir+'/csv/features/'\n",
    "    os.chdir(os.path.join(prefix, 'csv'))\n",
    "    filenames = []\n",
    "    if group == 'train_csv':\n",
    "      filenames = ['feature'+str(i)+'.csv' for i in range(0,66)]\n",
    "    else:\n",
    "      filenames = ['feature_t'+str(i)+'.csv' for i in range(0,66)]\n",
    "    # load input data\n",
    "    X= load_group(filenames, filepath)\n",
    "    #load y \n",
    "    y = read_csv(filename+'_'+group.split('_')[0]+'_targets_1.csv')\n",
    "    # load class output\n",
    "    return X,y\n",
    "\n",
    "# load the dataset, returns train and test X and y elements\n",
    "def load_dataset(prefix=''):\n",
    "    # load all train\n",
    "    trainX, trainy = load_dataset_group('train_csv', prefix)\n",
    "    print(trainX.shape, trainy.shape)\n",
    "    # load all test\n",
    "    testX, testy = load_dataset_group('test_csv', prefix)\n",
    "    print(testX.shape, testy.shape)\n",
    "    trainy['language'] = trainy['language'].map(LANGUAGES_N)\n",
    "    testy['language'] = testy['language'].map(LANGUAGES_N)\n",
    "\n",
    "    trainy = to_categorical(trainy, len(LANGUAGES_N))\n",
    "    testy = to_categorical(testy, len(LANGUAGES_N))\n",
    "    print(trainX.shape, trainy.shape, testX.shape, testy.shape)\n",
    "    return trainX, trainy, testX, testy\n",
    "\n",
    "    \n",
    "    \n",
    "# run the experiment\n",
    "trainX, trainy, testX, testy = load_dataset(path_drive+'/'+dataset_dir)"
   ]
  },
  {
   "cell_type": "code",
   "execution_count": 36,
   "metadata": {
    "executionInfo": {
     "elapsed": 270,
     "status": "ok",
     "timestamp": 1621692290297,
     "user": {
      "displayName": "Maria Natale",
      "photoUrl": "https://lh3.googleusercontent.com/a-/AOh14GjVUj-VNPg7oPZf-hbxFK9y-WScDBmQlvwJPmkWcg=s64",
      "userId": "07543223348938372260"
     },
     "user_tz": -120
    },
    "id": "TaOdso3wawGc"
   },
   "outputs": [],
   "source": [
    "import tensorflow as tf\n",
    "from keras.callbacks import EarlyStopping\n",
    "\n",
    "def create_model(trainX, trainy, testX, testy):\n",
    "    n_timesteps, n_features, n_outputs = trainX.shape[1], trainX.shape[2], len(LANGUAGES_N.keys())\n",
    "    # Initialising the RNN\n",
    "    model = Sequential()\n",
    "    model.add(Bidirectional(LSTM(units = 50, return_sequences = True, input_shape = (n_timesteps, n_features))))\n",
    "    model.add(Dropout(0.2))\n",
    "\n",
    "    # Adding a second LSTM layer and Dropout layer\n",
    "    model.add(Bidirectional(LSTM(units = 50, return_sequences = True)))\n",
    "    model.add(Dropout(0.2))\n",
    "\n",
    "    # Adding a third LSTM layer and Dropout layer\n",
    "    model.add(Bidirectional(LSTM(units = 50)))\n",
    "    model.add(Dropout(0.2))\n",
    "\n",
    "    # Adding the output layer\n",
    "    model.add(Dense(n_outputs, activation='softmax'))\n",
    "\n",
    "    opt = tf.keras.optimizers.Adam(lr=0.001, decay=1e-6)\n",
    "    model.compile(\n",
    "      loss='categorical_crossentropy',\n",
    "      optimizer=opt,\n",
    "      metrics=['accuracy']\n",
    "    )\n",
    "\n",
    "    return model\n",
    "    \n",
    "\n"
   ]
  },
  {
   "cell_type": "code",
   "execution_count": 37,
   "metadata": {
    "colab": {
     "base_uri": "https://localhost:8080/"
    },
    "executionInfo": {
     "elapsed": 388441,
     "status": "ok",
     "timestamp": 1621692682566,
     "user": {
      "displayName": "Maria Natale",
      "photoUrl": "https://lh3.googleusercontent.com/a-/AOh14GjVUj-VNPg7oPZf-hbxFK9y-WScDBmQlvwJPmkWcg=s64",
      "userId": "07543223348938372260"
     },
     "user_tz": -120
    },
    "id": "Snz6GzESMslm",
    "outputId": "d28ccab3-5647-4a10-a12f-c7553df9df91"
   },
   "outputs": [
    {
     "name": "stdout",
     "output_type": "stream",
     "text": [
      "Epoch 1/30\n"
     ]
    },
    {
     "name": "stderr",
     "output_type": "stream",
     "text": [
      "C:\\Users\\CasaLab1\\AppData\\Roaming\\Python\\Python37\\site-packages\\tensorflow\\python\\keras\\optimizer_v2\\optimizer_v2.py:375: UserWarning: The `lr` argument is deprecated, use `learning_rate` instead.\n",
      "  \"The `lr` argument is deprecated, use `learning_rate` instead.\")\n"
     ]
    },
    {
     "name": "stdout",
     "output_type": "stream",
     "text": [
      "7/7 [==============================] - 20s 1s/step - loss: 0.6871 - accuracy: 0.5762 - val_loss: 0.6246 - val_accuracy: 0.6545\n",
      "Epoch 2/30\n",
      "7/7 [==============================] - 7s 998ms/step - loss: 0.5930 - accuracy: 0.6987 - val_loss: 0.6345 - val_accuracy: 0.6364\n",
      "Epoch 3/30\n",
      "7/7 [==============================] - 6s 884ms/step - loss: 0.5809 - accuracy: 0.6716 - val_loss: 0.6356 - val_accuracy: 0.7273\n",
      "Model: \"sequential_5\"\n",
      "_________________________________________________________________\n",
      "Layer (type)                 Output Shape              Param #   \n",
      "=================================================================\n",
      "bidirectional_6 (Bidirection (None, 350, 100)          46800     \n",
      "_________________________________________________________________\n",
      "dropout_6 (Dropout)          (None, 350, 100)          0         \n",
      "_________________________________________________________________\n",
      "bidirectional_7 (Bidirection (None, 350, 100)          60400     \n",
      "_________________________________________________________________\n",
      "dropout_7 (Dropout)          (None, 350, 100)          0         \n",
      "_________________________________________________________________\n",
      "bidirectional_8 (Bidirection (None, 100)               60400     \n",
      "_________________________________________________________________\n",
      "dropout_8 (Dropout)          (None, 100)               0         \n",
      "_________________________________________________________________\n",
      "dense_2 (Dense)              (None, 2)                 202       \n",
      "=================================================================\n",
      "Total params: 167,802\n",
      "Trainable params: 167,802\n",
      "Non-trainable params: 0\n",
      "_________________________________________________________________\n"
     ]
    }
   ],
   "source": [
    "verbose, epochs, batch_size = 0, 30, 32\n",
    "model = create_model(trainX, trainy,  testX, testy)\n",
    "es = EarlyStopping(monitor='val_loss',\n",
    "                              min_delta=0,\n",
    "                              patience=2,\n",
    "                              verbose=0, mode='auto')\n",
    "history = model.fit(trainX, trainy, epochs = epochs, batch_size = batch_size, validation_data = (testX, testy), callbacks=[es]) \n",
    "model.summary()\n"
   ]
  },
  {
   "cell_type": "code",
   "execution_count": 38,
   "metadata": {
    "colab": {
     "base_uri": "https://localhost:8080/"
    },
    "executionInfo": {
     "elapsed": 4573,
     "status": "ok",
     "timestamp": 1621692768953,
     "user": {
      "displayName": "Maria Natale",
      "photoUrl": "https://lh3.googleusercontent.com/a-/AOh14GjVUj-VNPg7oPZf-hbxFK9y-WScDBmQlvwJPmkWcg=s64",
      "userId": "07543223348938372260"
     },
     "user_tz": -120
    },
    "id": "Az-tZ0A6PyZ9",
    "outputId": "e310569c-4caa-4b2b-a685-d717a8de68b5"
   },
   "outputs": [
    {
     "name": "stdout",
     "output_type": "stream",
     "text": [
      "2/2 [==============================] - 1s 262ms/step - loss: 0.6356 - accuracy: 0.7273\n"
     ]
    },
    {
     "data": {
      "text/plain": [
       "[0.6356161236763, 0.7272727489471436]"
      ]
     },
     "execution_count": 38,
     "metadata": {},
     "output_type": "execute_result"
    }
   ],
   "source": [
    "model.evaluate(testX, testy)"
   ]
  },
  {
   "cell_type": "code",
   "execution_count": 39,
   "metadata": {
    "colab": {
     "base_uri": "https://localhost:8080/"
    },
    "executionInfo": {
     "elapsed": 941,
     "status": "ok",
     "timestamp": 1621691338389,
     "user": {
      "displayName": "Maria Natale",
      "photoUrl": "https://lh3.googleusercontent.com/a-/AOh14GjVUj-VNPg7oPZf-hbxFK9y-WScDBmQlvwJPmkWcg=s64",
      "userId": "07543223348938372260"
     },
     "user_tz": -120
    },
    "id": "topTK63NP0Il",
    "outputId": "a9d3d3a0-1785-4bc6-df8c-10593b494231"
   },
   "outputs": [
    {
     "name": "stderr",
     "output_type": "stream",
     "text": [
      "c:\\users\\casalab1\\appdata\\local\\programs\\python\\python37\\lib\\site-packages\\keras\\engine\\sequential.py:450: UserWarning: `model.predict_classes()` is deprecated and will be removed after 2021-01-01. Please use instead:* `np.argmax(model.predict(x), axis=-1)`,   if your model does multi-class classification   (e.g. if it uses a `softmax` last-layer activation).* `(model.predict(x) > 0.5).astype(\"int32\")`,   if your model does binary classification   (e.g. if it uses a `sigmoid` last-layer activation).\n",
      "  warnings.warn('`model.predict_classes()` is deprecated and '\n"
     ]
    },
    {
     "data": {
      "text/plain": [
       "array([0, 0, 0, 0, 0, 0, 0, 0, 0, 0, 0, 0, 1, 1, 0, 1, 0, 1, 0, 0, 0, 1,\n",
       "       1, 0, 1, 0, 1, 0, 0, 0, 1, 1, 0, 1, 0, 1, 0, 1, 0, 0, 0, 0, 1, 1,\n",
       "       0, 1, 0, 1, 1, 0, 0, 1, 1, 0, 0], dtype=int64)"
      ]
     },
     "execution_count": 39,
     "metadata": {},
     "output_type": "execute_result"
    }
   ],
   "source": [
    "#check predicted values\n",
    "predictions = model.predict_classes(testX) \n",
    "predictions"
   ]
  },
  {
   "cell_type": "code",
   "execution_count": 40,
   "metadata": {
    "colab": {
     "base_uri": "https://localhost:8080/"
    },
    "executionInfo": {
     "elapsed": 419,
     "status": "ok",
     "timestamp": 1621691987096,
     "user": {
      "displayName": "Maria Natale",
      "photoUrl": "https://lh3.googleusercontent.com/a-/AOh14GjVUj-VNPg7oPZf-hbxFK9y-WScDBmQlvwJPmkWcg=s64",
      "userId": "07543223348938372260"
     },
     "user_tz": -120
    },
    "id": "DVvvtJNXP3Z9",
    "outputId": "fe15fc8a-0a58-4023-c039-ea241a2d80bd"
   },
   "outputs": [
    {
     "name": "stdout",
     "output_type": "stream",
     "text": [
      "[[[14  9]\n",
      "  [ 6 26]]\n",
      "\n",
      " [[26  6]\n",
      "  [ 9 14]]]\n"
     ]
    }
   ],
   "source": [
    "from sklearn.metrics import multilabel_confusion_matrix\n",
    "from sklearn.metrics import roc_curve\n",
    "from sklearn.metrics import roc_auc_score\n",
    "from sklearn.metrics import auc\n",
    "\n",
    "testy = np.argmax(testy, axis=1)\n",
    "vis_arr = multilabel_confusion_matrix(testy, predictions, labels = list(LANGUAGES_N.values()))\n",
    "print(vis_arr)\n",
    "\n",
    "# Compute ROC curve and ROC area for each class\n",
    "fpr = dict()\n",
    "tpr = dict()\n",
    "roc_auc = dict()\n",
    "\n",
    "for i in list(LANGUAGES_N.values()):\n",
    "    fpr[i], tpr[i], _ = roc_curve(testy == i, predictions == i)\n",
    "    roc_auc[i] = auc(fpr[i], tpr[i])\n",
    "\n"
   ]
  },
  {
   "cell_type": "code",
   "execution_count": 41,
   "metadata": {
    "colab": {
     "base_uri": "https://localhost:8080/",
     "height": 573
    },
    "executionInfo": {
     "elapsed": 418,
     "status": "ok",
     "timestamp": 1621691990376,
     "user": {
      "displayName": "Maria Natale",
      "photoUrl": "https://lh3.googleusercontent.com/a-/AOh14GjVUj-VNPg7oPZf-hbxFK9y-WScDBmQlvwJPmkWcg=s64",
      "userId": "07543223348938372260"
     },
     "user_tz": -120
    },
    "id": "EEJRNEHWQFj3",
    "outputId": "b2fc6b19-2230-47c8-ed48-e8c7ea59e28c"
   },
   "outputs": [
    {
     "data": {
      "image/png": "[encoded data removed]",
      "text/plain": [
       "<Figure size 432x288 with 1 Axes>"
      ]
     },
     "metadata": {
      "needs_background": "light"
     },
     "output_type": "display_data"
    },
    {
     "data": {
      "image/png": "[encoded data removed]",
      "text/plain": [
       "<Figure size 432x288 with 1 Axes>"
      ]
     },
     "metadata": {
      "needs_background": "light"
     },
     "output_type": "display_data"
    }
   ],
   "source": [
    "import matplotlib.pyplot as plt\n",
    "# Plot of a ROC curve for a specific class\n",
    "for i in list(LANGUAGES_N.values()):\n",
    "    plt.figure()\n",
    "    plt.plot(fpr[i], tpr[i], label='ROC curve (area = %0.2f)' % roc_auc[i])\n",
    "    plt.plot([0, 1], [0, 1], 'k--')\n",
    "    plt.xlim([0.0, 1.0])\n",
    "    plt.ylim([0.0, 1.05])\n",
    "    plt.xlabel('False Positive Rate')\n",
    "    plt.ylabel('True Positive Rate')\n",
    "    plt.title('Receiver operating characteristic example')\n",
    "    plt.legend(loc=\"lower right\")\n",
    "    plt.show()"
   ]
  },
  {
   "cell_type": "code",
   "execution_count": 42,
   "metadata": {
    "executionInfo": {
     "elapsed": 219,
     "status": "ok",
     "timestamp": 1621691592576,
     "user": {
      "displayName": "Maria Natale",
      "photoUrl": "https://lh3.googleusercontent.com/a-/AOh14GjVUj-VNPg7oPZf-hbxFK9y-WScDBmQlvwJPmkWcg=s64",
      "userId": "07543223348938372260"
     },
     "user_tz": -120
    },
    "id": "SRnJl2cwu5m8"
   },
   "outputs": [],
   "source": [
    "import pandas as pd\n",
    "import matplotlib.pyplot as plt\n",
    "import seaborn as sns\n",
    "\n",
    "\n",
    "def print_confusion_matrix(confusion_matrix, axes, class_label, class_names, fontsize=14):\n",
    "\n",
    "    df_cm = pd.DataFrame(\n",
    "        confusion_matrix, index=class_names, columns=class_names,\n",
    "    )\n",
    "\n",
    "    try:\n",
    "        heatmap = sns.heatmap(df_cm, annot=True, fmt=\"d\", cbar=False, ax=axes)\n",
    "    except ValueError:\n",
    "        raise ValueError(\"Confusion matrix values must be integers.\")\n",
    "    heatmap.yaxis.set_ticklabels(heatmap.yaxis.get_ticklabels(), rotation=0, ha='right', fontsize=fontsize)\n",
    "    heatmap.xaxis.set_ticklabels(heatmap.xaxis.get_ticklabels(), rotation=45, ha='right', fontsize=fontsize)\n",
    "    axes.set_ylabel('True label')\n",
    "    axes.set_xlabel('Predicted label')\n",
    "    axes.set_title(\"Confusion Matrix for the class - \" + class_label)"
   ]
  },
  {
   "cell_type": "code",
   "execution_count": 43,
   "metadata": {
    "colab": {
     "base_uri": "https://localhost:8080/",
     "height": 513
    },
    "executionInfo": {
     "elapsed": 778,
     "status": "ok",
     "timestamp": 1621691932459,
     "user": {
      "displayName": "Maria Natale",
      "photoUrl": "https://lh3.googleusercontent.com/a-/AOh14GjVUj-VNPg7oPZf-hbxFK9y-WScDBmQlvwJPmkWcg=s64",
      "userId": "07543223348938372260"
     },
     "user_tz": -120
    },
    "id": "1gzuGrDdUTDV",
    "outputId": "1e29df23-7d0f-4b1e-f545-112514c3dd89"
   },
   "outputs": [
    {
     "data": {
      "image/png": "[encoded data removed]",
      "text/plain": [
       "<Figure size 864x504 with 2 Axes>"
      ]
     },
     "metadata": {
      "needs_background": "light"
     },
     "output_type": "display_data"
    }
   ],
   "source": [
    "fig, ax = plt.subplots(1, 2, figsize=(12, 7))\n",
    "labels = list(LANGUAGES.values())\n",
    "for axes, cfs_matrix, label in zip(ax.flatten(), vis_arr, labels):\n",
    "    print_confusion_matrix(cfs_matrix, axes, label, list(LANGUAGES_N.values()))\n",
    "    \n",
    "fig.tight_layout()\n",
    "plt.show()"
   ]
  },
  {
   "cell_type": "code",
   "execution_count": 44,
   "metadata": {
    "colab": {
     "base_uri": "https://localhost:8080/",
     "height": 295
    },
    "executionInfo": {
     "elapsed": 269,
     "status": "ok",
     "timestamp": 1621691941342,
     "user": {
      "displayName": "Maria Natale",
      "photoUrl": "https://lh3.googleusercontent.com/a-/AOh14GjVUj-VNPg7oPZf-hbxFK9y-WScDBmQlvwJPmkWcg=s64",
      "userId": "07543223348938372260"
     },
     "user_tz": -120
    },
    "id": "xKk5o6AAUUp8",
    "outputId": "73a2f6dc-7dbd-4311-fe38-1ae1c4ba40fa"
   },
   "outputs": [
    {
     "data": {
      "image/png": "[encoded data removed]",
      "text/plain": [
       "<Figure size 432x288 with 1 Axes>"
      ]
     },
     "metadata": {
      "needs_background": "light"
     },
     "output_type": "display_data"
    }
   ],
   "source": [
    "plt.plot(history.history['accuracy'])\n",
    "plt.plot(history.history['val_accuracy'])\n",
    "plt.title('model accuracy')\n",
    "plt.ylabel('accuracy')\n",
    "plt.xlabel('epoch')\n",
    "plt.legend(['train', 'test'], loc='upper left')\n",
    "plt.show()"
   ]
  },
  {
   "cell_type": "code",
   "execution_count": 45,
   "metadata": {
    "colab": {
     "base_uri": "https://localhost:8080/",
     "height": 295
    },
    "executionInfo": {
     "elapsed": 264,
     "status": "ok",
     "timestamp": 1621691943808,
     "user": {
      "displayName": "Maria Natale",
      "photoUrl": "https://lh3.googleusercontent.com/a-/AOh14GjVUj-VNPg7oPZf-hbxFK9y-WScDBmQlvwJPmkWcg=s64",
      "userId": "07543223348938372260"
     },
     "user_tz": -120
    },
    "id": "k6jioUTnUV__",
    "outputId": "650141ab-1942-40a0-a92b-eff5dfd5d4bb"
   },
   "outputs": [
    {
     "data": {
      "image/png": "[encoded data removed]",
      "text/plain": [
       "<Figure size 432x288 with 1 Axes>"
      ]
     },
     "metadata": {
      "needs_background": "light"
     },
     "output_type": "display_data"
    }
   ],
   "source": [
    "plt.plot(history.history['loss'])\n",
    "plt.plot(history.history['val_loss'])\n",
    "plt.title('model loss')\n",
    "plt.ylabel('loss')\n",
    "plt.xlabel('epoch')\n",
    "plt.legend(['train', 'test'], loc='upper left')\n",
    "plt.show()"
   ]
  },
  {
   "cell_type": "code",
   "execution_count": null,
   "metadata": {},
   "outputs": [],
   "source": []
  },
  {
   "cell_type": "code",
   "execution_count": null,
   "metadata": {},
   "outputs": [],
   "source": []
  }
 ],
 "metadata": {
  "colab": {
   "authorship_tag": "ABX9TyMzGNPD/7guZ2jf7vzid/SD",
   "collapsed_sections": [],
   "name": "blstmCSVnew.ipynb",
   "provenance": []
  },
  "kernelspec": {
   "display_name": "Python 3",
   "language": "python",
   "name": "python3"
  },
  "language_info": {
   "codemirror_mode": {
    "name": "ipython",
    "version": 3
   },
   "file_extension": ".py",
   "mimetype": "text/x-python",
   "name": "python",
   "nbconvert_exporter": "python",
   "pygments_lexer": "ipython3",
   "version": "3.7.6"
  }
 },
 "nbformat": 4,
 "nbformat_minor": 1
}
